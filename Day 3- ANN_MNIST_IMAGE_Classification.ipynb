{
 "cells": [
  {
   "cell_type": "code",
   "execution_count": 1,
   "id": "16c9c579",
   "metadata": {
    "collapsed": true
   },
   "outputs": [
    {
     "name": "stdout",
     "output_type": "stream",
     "text": [
      "Requirement already satisfied: tensorflow in c:\\users\\nilay\\anaconda3\\lib\\site-packages (2.12.0)\n",
      "Requirement already satisfied: tensorflow-intel==2.12.0 in c:\\users\\nilay\\anaconda3\\lib\\site-packages (from tensorflow) (2.12.0)\n",
      "Requirement already satisfied: tensorflow-io-gcs-filesystem>=0.23.1 in c:\\users\\nilay\\anaconda3\\lib\\site-packages (from tensorflow-intel==2.12.0->tensorflow) (0.31.0)\n",
      "Requirement already satisfied: opt-einsum>=2.3.2 in c:\\users\\nilay\\anaconda3\\lib\\site-packages (from tensorflow-intel==2.12.0->tensorflow) (3.3.0)\n",
      "Requirement already satisfied: six>=1.12.0 in c:\\users\\nilay\\anaconda3\\lib\\site-packages (from tensorflow-intel==2.12.0->tensorflow) (1.16.0)\n",
      "Requirement already satisfied: tensorflow-estimator<2.13,>=2.12.0 in c:\\users\\nilay\\anaconda3\\lib\\site-packages (from tensorflow-intel==2.12.0->tensorflow) (2.12.0)\n",
      "Requirement already satisfied: astunparse>=1.6.0 in c:\\users\\nilay\\anaconda3\\lib\\site-packages (from tensorflow-intel==2.12.0->tensorflow) (1.6.3)\n",
      "Requirement already satisfied: typing-extensions>=3.6.6 in c:\\users\\nilay\\anaconda3\\lib\\site-packages (from tensorflow-intel==2.12.0->tensorflow) (4.4.0)\n",
      "Requirement already satisfied: termcolor>=1.1.0 in c:\\users\\nilay\\anaconda3\\lib\\site-packages (from tensorflow-intel==2.12.0->tensorflow) (2.3.0)\n",
      "Requirement already satisfied: packaging in c:\\users\\nilay\\anaconda3\\lib\\site-packages (from tensorflow-intel==2.12.0->tensorflow) (22.0)\n",
      "Requirement already satisfied: tensorboard<2.13,>=2.12 in c:\\users\\nilay\\anaconda3\\lib\\site-packages (from tensorflow-intel==2.12.0->tensorflow) (2.12.2)\n",
      "Requirement already satisfied: keras<2.13,>=2.12.0 in c:\\users\\nilay\\anaconda3\\lib\\site-packages (from tensorflow-intel==2.12.0->tensorflow) (2.12.0)\n",
      "Requirement already satisfied: libclang>=13.0.0 in c:\\users\\nilay\\anaconda3\\lib\\site-packages (from tensorflow-intel==2.12.0->tensorflow) (16.0.0)\n",
      "Requirement already satisfied: google-pasta>=0.1.1 in c:\\users\\nilay\\anaconda3\\lib\\site-packages (from tensorflow-intel==2.12.0->tensorflow) (0.2.0)\n",
      "Requirement already satisfied: h5py>=2.9.0 in c:\\users\\nilay\\anaconda3\\lib\\site-packages (from tensorflow-intel==2.12.0->tensorflow) (3.7.0)\n",
      "Requirement already satisfied: wrapt<1.15,>=1.11.0 in c:\\users\\nilay\\anaconda3\\lib\\site-packages (from tensorflow-intel==2.12.0->tensorflow) (1.14.1)\n",
      "Requirement already satisfied: protobuf!=4.21.0,!=4.21.1,!=4.21.2,!=4.21.3,!=4.21.4,!=4.21.5,<5.0.0dev,>=3.20.3 in c:\\users\\nilay\\anaconda3\\lib\\site-packages (from tensorflow-intel==2.12.0->tensorflow) (3.20.3)\n",
      "Requirement already satisfied: grpcio<2.0,>=1.24.3 in c:\\users\\nilay\\anaconda3\\lib\\site-packages (from tensorflow-intel==2.12.0->tensorflow) (1.54.0)\n",
      "Requirement already satisfied: absl-py>=1.0.0 in c:\\users\\nilay\\anaconda3\\lib\\site-packages (from tensorflow-intel==2.12.0->tensorflow) (1.4.0)\n",
      "Requirement already satisfied: jax>=0.3.15 in c:\\users\\nilay\\anaconda3\\lib\\site-packages (from tensorflow-intel==2.12.0->tensorflow) (0.4.8)\n",
      "Requirement already satisfied: gast<=0.4.0,>=0.2.1 in c:\\users\\nilay\\anaconda3\\lib\\site-packages (from tensorflow-intel==2.12.0->tensorflow) (0.4.0)\n",
      "Requirement already satisfied: numpy<1.24,>=1.22 in c:\\users\\nilay\\anaconda3\\lib\\site-packages (from tensorflow-intel==2.12.0->tensorflow) (1.23.5)\n",
      "Requirement already satisfied: flatbuffers>=2.0 in c:\\users\\nilay\\anaconda3\\lib\\site-packages (from tensorflow-intel==2.12.0->tensorflow) (23.3.3)\n",
      "Requirement already satisfied: setuptools in c:\\users\\nilay\\anaconda3\\lib\\site-packages (from tensorflow-intel==2.12.0->tensorflow) (65.6.3)\n",
      "Requirement already satisfied: wheel<1.0,>=0.23.0 in c:\\users\\nilay\\anaconda3\\lib\\site-packages (from astunparse>=1.6.0->tensorflow-intel==2.12.0->tensorflow) (0.38.4)\n",
      "Requirement already satisfied: ml-dtypes>=0.0.3 in c:\\users\\nilay\\anaconda3\\lib\\site-packages (from jax>=0.3.15->tensorflow-intel==2.12.0->tensorflow) (0.1.0)\n",
      "Requirement already satisfied: scipy>=1.7 in c:\\users\\nilay\\anaconda3\\lib\\site-packages (from jax>=0.3.15->tensorflow-intel==2.12.0->tensorflow) (1.9.3)\n",
      "Requirement already satisfied: google-auth<3,>=1.6.3 in c:\\users\\nilay\\anaconda3\\lib\\site-packages (from tensorboard<2.13,>=2.12->tensorflow-intel==2.12.0->tensorflow) (2.17.3)\n",
      "Requirement already satisfied: tensorboard-plugin-wit>=1.6.0 in c:\\users\\nilay\\anaconda3\\lib\\site-packages (from tensorboard<2.13,>=2.12->tensorflow-intel==2.12.0->tensorflow) (1.8.1)\n",
      "Requirement already satisfied: markdown>=2.6.8 in c:\\users\\nilay\\anaconda3\\lib\\site-packages (from tensorboard<2.13,>=2.12->tensorflow-intel==2.12.0->tensorflow) (3.4.1)\n",
      "Requirement already satisfied: google-auth-oauthlib<1.1,>=0.5 in c:\\users\\nilay\\anaconda3\\lib\\site-packages (from tensorboard<2.13,>=2.12->tensorflow-intel==2.12.0->tensorflow) (1.0.0)\n",
      "Requirement already satisfied: requests<3,>=2.21.0 in c:\\users\\nilay\\anaconda3\\lib\\site-packages (from tensorboard<2.13,>=2.12->tensorflow-intel==2.12.0->tensorflow) (2.28.1)\n",
      "Requirement already satisfied: tensorboard-data-server<0.8.0,>=0.7.0 in c:\\users\\nilay\\anaconda3\\lib\\site-packages (from tensorboard<2.13,>=2.12->tensorflow-intel==2.12.0->tensorflow) (0.7.0)\n",
      "Requirement already satisfied: werkzeug>=1.0.1 in c:\\users\\nilay\\anaconda3\\lib\\site-packages (from tensorboard<2.13,>=2.12->tensorflow-intel==2.12.0->tensorflow) (2.2.2)\n",
      "Requirement already satisfied: cachetools<6.0,>=2.0.0 in c:\\users\\nilay\\anaconda3\\lib\\site-packages (from google-auth<3,>=1.6.3->tensorboard<2.13,>=2.12->tensorflow-intel==2.12.0->tensorflow) (5.3.0)\n",
      "Requirement already satisfied: pyasn1-modules>=0.2.1 in c:\\users\\nilay\\anaconda3\\lib\\site-packages (from google-auth<3,>=1.6.3->tensorboard<2.13,>=2.12->tensorflow-intel==2.12.0->tensorflow) (0.2.8)\n",
      "Requirement already satisfied: rsa<5,>=3.1.4 in c:\\users\\nilay\\anaconda3\\lib\\site-packages (from google-auth<3,>=1.6.3->tensorboard<2.13,>=2.12->tensorflow-intel==2.12.0->tensorflow) (4.9)\n",
      "Requirement already satisfied: requests-oauthlib>=0.7.0 in c:\\users\\nilay\\anaconda3\\lib\\site-packages (from google-auth-oauthlib<1.1,>=0.5->tensorboard<2.13,>=2.12->tensorflow-intel==2.12.0->tensorflow) (1.3.1)\n",
      "Requirement already satisfied: charset-normalizer<3,>=2 in c:\\users\\nilay\\anaconda3\\lib\\site-packages (from requests<3,>=2.21.0->tensorboard<2.13,>=2.12->tensorflow-intel==2.12.0->tensorflow) (2.0.4)\n",
      "Requirement already satisfied: urllib3<1.27,>=1.21.1 in c:\\users\\nilay\\anaconda3\\lib\\site-packages (from requests<3,>=2.21.0->tensorboard<2.13,>=2.12->tensorflow-intel==2.12.0->tensorflow) (1.26.14)\n",
      "Requirement already satisfied: certifi>=2017.4.17 in c:\\users\\nilay\\anaconda3\\lib\\site-packages (from requests<3,>=2.21.0->tensorboard<2.13,>=2.12->tensorflow-intel==2.12.0->tensorflow) (2023.5.7)\n",
      "Requirement already satisfied: idna<4,>=2.5 in c:\\users\\nilay\\anaconda3\\lib\\site-packages (from requests<3,>=2.21.0->tensorboard<2.13,>=2.12->tensorflow-intel==2.12.0->tensorflow) (3.4)\n",
      "Requirement already satisfied: MarkupSafe>=2.1.1 in c:\\users\\nilay\\anaconda3\\lib\\site-packages (from werkzeug>=1.0.1->tensorboard<2.13,>=2.12->tensorflow-intel==2.12.0->tensorflow) (2.1.1)\n",
      "Requirement already satisfied: pyasn1<0.5.0,>=0.4.6 in c:\\users\\nilay\\anaconda3\\lib\\site-packages (from pyasn1-modules>=0.2.1->google-auth<3,>=1.6.3->tensorboard<2.13,>=2.12->tensorflow-intel==2.12.0->tensorflow) (0.4.8)\n",
      "Requirement already satisfied: oauthlib>=3.0.0 in c:\\users\\nilay\\anaconda3\\lib\\site-packages (from requests-oauthlib>=0.7.0->google-auth-oauthlib<1.1,>=0.5->tensorboard<2.13,>=2.12->tensorflow-intel==2.12.0->tensorflow) (3.2.2)\n"
     ]
    },
    {
     "name": "stderr",
     "output_type": "stream",
     "text": [
      "WARNING: Ignoring invalid distribution -yspark (c:\\users\\nilay\\anaconda3\\lib\\site-packages)\n",
      "WARNING: Ignoring invalid distribution -rotobuf (c:\\users\\nilay\\anaconda3\\lib\\site-packages)\n",
      "WARNING: Ignoring invalid distribution -yspark (c:\\users\\nilay\\anaconda3\\lib\\site-packages)\n",
      "WARNING: Ignoring invalid distribution -rotobuf (c:\\users\\nilay\\anaconda3\\lib\\site-packages)\n",
      "WARNING: Ignoring invalid distribution -yspark (c:\\users\\nilay\\anaconda3\\lib\\site-packages)\n",
      "WARNING: Ignoring invalid distribution -rotobuf (c:\\users\\nilay\\anaconda3\\lib\\site-packages)\n",
      "WARNING: Ignoring invalid distribution -yspark (c:\\users\\nilay\\anaconda3\\lib\\site-packages)\n",
      "WARNING: Ignoring invalid distribution -rotobuf (c:\\users\\nilay\\anaconda3\\lib\\site-packages)\n",
      "WARNING: Ignoring invalid distribution -yspark (c:\\users\\nilay\\anaconda3\\lib\\site-packages)\n",
      "WARNING: Ignoring invalid distribution -rotobuf (c:\\users\\nilay\\anaconda3\\lib\\site-packages)\n",
      "WARNING: Ignoring invalid distribution -yspark (c:\\users\\nilay\\anaconda3\\lib\\site-packages)\n",
      "WARNING: Ignoring invalid distribution -rotobuf (c:\\users\\nilay\\anaconda3\\lib\\site-packages)\n"
     ]
    }
   ],
   "source": [
    "!pip install tensorflow"
   ]
  },
  {
   "cell_type": "code",
   "execution_count": 1,
   "id": "27dd187d",
   "metadata": {},
   "outputs": [],
   "source": [
    "import tensorflow as tf\n",
    "from tensorflow import keras\n",
    "from keras.models import Sequential\n",
    "from keras.layers import Dense,Flatten\n",
    "import numpy as np\n",
    "import pandas as pd\n",
    "import matplotlib.pyplot as plt"
   ]
  },
  {
   "cell_type": "code",
   "execution_count": null,
   "id": "1cf37858",
   "metadata": {},
   "outputs": [],
   "source": [
    "#load_data\n",
    "(X_train,y_train),(X_test,y_test)=keras.datasets.mnist.load_data()"
   ]
  },
  {
   "cell_type": "code",
   "execution_count": null,
   "id": "9910198b",
   "metadata": {},
   "outputs": [],
   "source": [
    "len(X_train)"
   ]
  },
  {
   "cell_type": "code",
   "execution_count": null,
   "id": "86cab13c",
   "metadata": {},
   "outputs": [],
   "source": [
    "len(X_test)"
   ]
  },
  {
   "cell_type": "code",
   "execution_count": 7,
   "id": "2bb33213",
   "metadata": {},
   "outputs": [
    {
     "data": {
      "text/plain": [
       "numpy.ndarray"
      ]
     },
     "execution_count": 7,
     "metadata": {},
     "output_type": "execute_result"
    }
   ],
   "source": [
    "type(X_train)"
   ]
  },
  {
   "cell_type": "code",
   "execution_count": 8,
   "id": "fda2fc7a",
   "metadata": {
    "scrolled": true
   },
   "outputs": [
    {
     "data": {
      "text/plain": [
       "array([[  0,   0,   0,   0,   0,   0,   0,   0,   0,   0,   0,   0,   0,\n",
       "          0,   0,   0,   0,   0,   0,   0,   0,   0,   0,   0,   0,   0,\n",
       "          0,   0],\n",
       "       [  0,   0,   0,   0,   0,   0,   0,   0,   0,   0,   0,   0,   0,\n",
       "          0,   0,   0,   0,   0,   0,   0,   0,   0,   0,   0,   0,   0,\n",
       "          0,   0],\n",
       "       [  0,   0,   0,   0,   0,   0,   0,   0,   0,   0,   0,   0,   0,\n",
       "          0,   0,   0,   0,   0,   0,   0,   0,   0,   0,   0,   0,   0,\n",
       "          0,   0],\n",
       "       [  0,   0,   0,   0,   0,   0,   0,   0,   0,   0,   0,   0,   0,\n",
       "          0,   0,   0,   0,   0,   0,   0,   0,   0,   0,   0,   0,   0,\n",
       "          0,   0],\n",
       "       [  0,   0,   0,   0,   0,   0,   0,   0,   0,   0,   0,   0,   0,\n",
       "          0,   0,   0,   0,   0,   0,   0,   0,   0,   0,   0,   0,   0,\n",
       "          0,   0],\n",
       "       [  0,   0,   0,   0,   0,   0,   0,   0,   0,   0,   0,   0,   3,\n",
       "         18,  18,  18, 126, 136, 175,  26, 166, 255, 247, 127,   0,   0,\n",
       "          0,   0],\n",
       "       [  0,   0,   0,   0,   0,   0,   0,   0,  30,  36,  94, 154, 170,\n",
       "        253, 253, 253, 253, 253, 225, 172, 253, 242, 195,  64,   0,   0,\n",
       "          0,   0],\n",
       "       [  0,   0,   0,   0,   0,   0,   0,  49, 238, 253, 253, 253, 253,\n",
       "        253, 253, 253, 253, 251,  93,  82,  82,  56,  39,   0,   0,   0,\n",
       "          0,   0],\n",
       "       [  0,   0,   0,   0,   0,   0,   0,  18, 219, 253, 253, 253, 253,\n",
       "        253, 198, 182, 247, 241,   0,   0,   0,   0,   0,   0,   0,   0,\n",
       "          0,   0],\n",
       "       [  0,   0,   0,   0,   0,   0,   0,   0,  80, 156, 107, 253, 253,\n",
       "        205,  11,   0,  43, 154,   0,   0,   0,   0,   0,   0,   0,   0,\n",
       "          0,   0],\n",
       "       [  0,   0,   0,   0,   0,   0,   0,   0,   0,  14,   1, 154, 253,\n",
       "         90,   0,   0,   0,   0,   0,   0,   0,   0,   0,   0,   0,   0,\n",
       "          0,   0],\n",
       "       [  0,   0,   0,   0,   0,   0,   0,   0,   0,   0,   0, 139, 253,\n",
       "        190,   2,   0,   0,   0,   0,   0,   0,   0,   0,   0,   0,   0,\n",
       "          0,   0],\n",
       "       [  0,   0,   0,   0,   0,   0,   0,   0,   0,   0,   0,  11, 190,\n",
       "        253,  70,   0,   0,   0,   0,   0,   0,   0,   0,   0,   0,   0,\n",
       "          0,   0],\n",
       "       [  0,   0,   0,   0,   0,   0,   0,   0,   0,   0,   0,   0,  35,\n",
       "        241, 225, 160, 108,   1,   0,   0,   0,   0,   0,   0,   0,   0,\n",
       "          0,   0],\n",
       "       [  0,   0,   0,   0,   0,   0,   0,   0,   0,   0,   0,   0,   0,\n",
       "         81, 240, 253, 253, 119,  25,   0,   0,   0,   0,   0,   0,   0,\n",
       "          0,   0],\n",
       "       [  0,   0,   0,   0,   0,   0,   0,   0,   0,   0,   0,   0,   0,\n",
       "          0,  45, 186, 253, 253, 150,  27,   0,   0,   0,   0,   0,   0,\n",
       "          0,   0],\n",
       "       [  0,   0,   0,   0,   0,   0,   0,   0,   0,   0,   0,   0,   0,\n",
       "          0,   0,  16,  93, 252, 253, 187,   0,   0,   0,   0,   0,   0,\n",
       "          0,   0],\n",
       "       [  0,   0,   0,   0,   0,   0,   0,   0,   0,   0,   0,   0,   0,\n",
       "          0,   0,   0,   0, 249, 253, 249,  64,   0,   0,   0,   0,   0,\n",
       "          0,   0],\n",
       "       [  0,   0,   0,   0,   0,   0,   0,   0,   0,   0,   0,   0,   0,\n",
       "          0,  46, 130, 183, 253, 253, 207,   2,   0,   0,   0,   0,   0,\n",
       "          0,   0],\n",
       "       [  0,   0,   0,   0,   0,   0,   0,   0,   0,   0,   0,   0,  39,\n",
       "        148, 229, 253, 253, 253, 250, 182,   0,   0,   0,   0,   0,   0,\n",
       "          0,   0],\n",
       "       [  0,   0,   0,   0,   0,   0,   0,   0,   0,   0,  24, 114, 221,\n",
       "        253, 253, 253, 253, 201,  78,   0,   0,   0,   0,   0,   0,   0,\n",
       "          0,   0],\n",
       "       [  0,   0,   0,   0,   0,   0,   0,   0,  23,  66, 213, 253, 253,\n",
       "        253, 253, 198,  81,   2,   0,   0,   0,   0,   0,   0,   0,   0,\n",
       "          0,   0],\n",
       "       [  0,   0,   0,   0,   0,   0,  18, 171, 219, 253, 253, 253, 253,\n",
       "        195,  80,   9,   0,   0,   0,   0,   0,   0,   0,   0,   0,   0,\n",
       "          0,   0],\n",
       "       [  0,   0,   0,   0,  55, 172, 226, 253, 253, 253, 253, 244, 133,\n",
       "         11,   0,   0,   0,   0,   0,   0,   0,   0,   0,   0,   0,   0,\n",
       "          0,   0],\n",
       "       [  0,   0,   0,   0, 136, 253, 253, 253, 212, 135, 132,  16,   0,\n",
       "          0,   0,   0,   0,   0,   0,   0,   0,   0,   0,   0,   0,   0,\n",
       "          0,   0],\n",
       "       [  0,   0,   0,   0,   0,   0,   0,   0,   0,   0,   0,   0,   0,\n",
       "          0,   0,   0,   0,   0,   0,   0,   0,   0,   0,   0,   0,   0,\n",
       "          0,   0],\n",
       "       [  0,   0,   0,   0,   0,   0,   0,   0,   0,   0,   0,   0,   0,\n",
       "          0,   0,   0,   0,   0,   0,   0,   0,   0,   0,   0,   0,   0,\n",
       "          0,   0],\n",
       "       [  0,   0,   0,   0,   0,   0,   0,   0,   0,   0,   0,   0,   0,\n",
       "          0,   0,   0,   0,   0,   0,   0,   0,   0,   0,   0,   0,   0,\n",
       "          0,   0]], dtype=uint8)"
      ]
     },
     "execution_count": 8,
     "metadata": {},
     "output_type": "execute_result"
    }
   ],
   "source": [
    "X_train[0]"
   ]
  },
  {
   "cell_type": "code",
   "execution_count": 9,
   "id": "96c1179f",
   "metadata": {},
   "outputs": [
    {
     "data": {
      "text/plain": [
       "(60000, 28, 28)"
      ]
     },
     "execution_count": 9,
     "metadata": {},
     "output_type": "execute_result"
    }
   ],
   "source": [
    "X_train.shape"
   ]
  },
  {
   "cell_type": "code",
   "execution_count": 10,
   "id": "5e5e871e",
   "metadata": {},
   "outputs": [
    {
     "data": {
      "text/plain": [
       "(28, 28)"
      ]
     },
     "execution_count": 10,
     "metadata": {},
     "output_type": "execute_result"
    }
   ],
   "source": [
    "X_train[0].shape"
   ]
  },
  {
   "cell_type": "code",
   "execution_count": 11,
   "id": "f661f28a",
   "metadata": {},
   "outputs": [
    {
     "name": "stdout",
     "output_type": "stream",
     "text": [
      "0   0   0   0   0   0   0   0   0   0   0   0   0   0   0   0   0   0   0   0   0   0   0   0   0   0   0   0   \n",
      "0   0   0   0   0   0   0   0   0   0   0   0   0   0   0   0   0   0   0   0   0   0   0   0   0   0   0   0   \n",
      "0   0   0   0   0   0   0   0   0   0   0   0   0   0   0   0   0   0   0   0   0   0   0   0   0   0   0   0   \n",
      "0   0   0   0   0   0   0   0   0   0   0   0   0   0   0   0   0   0   0   0   0   0   0   0   0   0   0   0   \n",
      "0   0   0   0   0   0   0   0   0   0   0   0   0   0   0   0   0   0   0   0   0   0   0   0   0   0   0   0   \n",
      "0   0   0   0   0   0   0   0   0   29  150 195 254 255 254 176 193 150 96  0   0   0   0   0   0   0   0   0   \n",
      "0   0   0   0   0   0   0   48  166 224 253 253 234 196 253 253 253 253 233 0   0   0   0   0   0   0   0   0   \n",
      "0   0   0   0   0   93  244 249 253 187 46  10  8   4   10  194 253 253 233 0   0   0   0   0   0   0   0   0   \n",
      "0   0   0   0   0   107 253 253 230 48  0   0   0   0   0   192 253 253 156 0   0   0   0   0   0   0   0   0   \n",
      "0   0   0   0   0   3   20  20  15  0   0   0   0   0   43  224 253 245 74  0   0   0   0   0   0   0   0   0   \n",
      "0   0   0   0   0   0   0   0   0   0   0   0   0   0   249 253 245 126 0   0   0   0   0   0   0   0   0   0   \n",
      "0   0   0   0   0   0   0   0   0   0   0   14  101 223 253 248 124 0   0   0   0   0   0   0   0   0   0   0   \n",
      "0   0   0   0   0   0   0   0   0   11  166 239 253 253 253 187 30  0   0   0   0   0   0   0   0   0   0   0   \n",
      "0   0   0   0   0   0   0   0   0   16  248 250 253 253 253 253 232 213 111 2   0   0   0   0   0   0   0   0   \n",
      "0   0   0   0   0   0   0   0   0   0   0   43  98  98  208 253 253 253 253 187 22  0   0   0   0   0   0   0   \n",
      "0   0   0   0   0   0   0   0   0   0   0   0   0   0   9   51  119 253 253 253 76  0   0   0   0   0   0   0   \n",
      "0   0   0   0   0   0   0   0   0   0   0   0   0   0   0   0   1   183 253 253 139 0   0   0   0   0   0   0   \n",
      "0   0   0   0   0   0   0   0   0   0   0   0   0   0   0   0   0   182 253 253 104 0   0   0   0   0   0   0   \n",
      "0   0   0   0   0   0   0   0   0   0   0   0   0   0   0   0   85  249 253 253 36  0   0   0   0   0   0   0   \n",
      "0   0   0   0   0   0   0   0   0   0   0   0   0   0   0   60  214 253 253 173 11  0   0   0   0   0   0   0   \n",
      "0   0   0   0   0   0   0   0   0   0   0   0   0   0   98  247 253 253 226 9   0   0   0   0   0   0   0   0   \n",
      "0   0   0   0   0   0   0   0   0   0   0   0   42  150 252 253 253 233 53  0   0   0   0   0   0   0   0   0   \n",
      "0   0   0   0   0   0   42  115 42  60  115 159 240 253 253 250 175 25  0   0   0   0   0   0   0   0   0   0   \n",
      "0   0   0   0   0   0   187 253 253 253 253 253 253 253 197 86  0   0   0   0   0   0   0   0   0   0   0   0   \n",
      "0   0   0   0   0   0   103 253 253 253 253 253 232 67  1   0   0   0   0   0   0   0   0   0   0   0   0   0   \n",
      "0   0   0   0   0   0   0   0   0   0   0   0   0   0   0   0   0   0   0   0   0   0   0   0   0   0   0   0   \n",
      "0   0   0   0   0   0   0   0   0   0   0   0   0   0   0   0   0   0   0   0   0   0   0   0   0   0   0   0   \n",
      "0   0   0   0   0   0   0   0   0   0   0   0   0   0   0   0   0   0   0   0   0   0   0   0   0   0   0   0   \n"
     ]
    }
   ],
   "source": [
    "for row in X_train[10000]:\n",
    "    row=row.tolist()\n",
    "    for i in row:\n",
    "        print(str(i).ljust(4), end='')\n",
    "    print()"
   ]
  },
  {
   "cell_type": "code",
   "execution_count": 12,
   "id": "1701bbb2",
   "metadata": {},
   "outputs": [
    {
     "data": {
      "text/plain": [
       "<matplotlib.image.AxesImage at 0x1c4592086a0>"
      ]
     },
     "execution_count": 12,
     "metadata": {},
     "output_type": "execute_result"
    },
    {
     "data": {
      "image/png": "[encoded data removed]",
      "text/plain": [
       "<Figure size 640x480 with 1 Axes>"
      ]
     },
     "metadata": {},
     "output_type": "display_data"
    }
   ],
   "source": [
    "plt.imshow(X_train[10], cmap='gray')"
   ]
  },
  {
   "cell_type": "code",
   "execution_count": 13,
   "id": "532215e7",
   "metadata": {},
   "outputs": [
    {
     "data": {
      "text/plain": [
       "3"
      ]
     },
     "execution_count": 13,
     "metadata": {},
     "output_type": "execute_result"
    }
   ],
   "source": [
    "y_train[10]"
   ]
  },
  {
   "cell_type": "code",
   "execution_count": 14,
   "id": "304f2dd3",
   "metadata": {},
   "outputs": [
    {
     "data": {
      "image/png": "[encoded data removed]",
      "text/plain": [
       "<Figure size 1000x400 with 10 Axes>"
      ]
     },
     "metadata": {},
     "output_type": "display_data"
    }
   ],
   "source": [
    "# Display some images\n",
    "fig, axes = plt.subplots(ncols=10, sharex=False, \n",
    "    sharey=True, figsize=(10, 4))\n",
    "for i in range(10):\n",
    "    axes[i].set_title(y_train[i])\n",
    "    axes[i].imshow(X_train[i], cmap='gray')\n",
    "    axes[i].get_xaxis().set_visible(False)\n",
    "    axes[i].get_yaxis().set_visible(False)\n",
    "plt.show()"
   ]
  },
  {
   "cell_type": "code",
   "execution_count": 15,
   "id": "78e5cfa3",
   "metadata": {},
   "outputs": [],
   "source": [
    "X_train=X_train/255\n",
    "X_test=X_test/255"
   ]
  },
  {
   "cell_type": "code",
   "execution_count": 16,
   "id": "802209d0",
   "metadata": {},
   "outputs": [
    {
     "data": {
      "text/plain": [
       "array([[0.        , 0.        , 0.        , 0.        , 0.        ,\n",
       "        0.        , 0.        , 0.        , 0.        , 0.        ,\n",
       "        0.        , 0.        , 0.        , 0.        , 0.        ,\n",
       "        0.        , 0.        , 0.        , 0.        , 0.        ,\n",
       "        0.        , 0.        , 0.        , 0.        , 0.        ,\n",
       "        0.        , 0.        , 0.        ],\n",
       "       [0.        , 0.        , 0.        , 0.        , 0.        ,\n",
       "        0.        , 0.        , 0.        , 0.        , 0.        ,\n",
       "        0.        , 0.        , 0.        , 0.        , 0.        ,\n",
       "        0.        , 0.        , 0.        , 0.        , 0.        ,\n",
       "        0.        , 0.        , 0.        , 0.        , 0.        ,\n",
       "        0.        , 0.        , 0.        ],\n",
       "       [0.        , 0.        , 0.        , 0.        , 0.        ,\n",
       "        0.        , 0.        , 0.        , 0.        , 0.        ,\n",
       "        0.        , 0.        , 0.        , 0.        , 0.        ,\n",
       "        0.        , 0.        , 0.        , 0.        , 0.        ,\n",
       "        0.        , 0.        , 0.        , 0.        , 0.        ,\n",
       "        0.        , 0.        , 0.        ],\n",
       "       [0.        , 0.        , 0.        , 0.        , 0.        ,\n",
       "        0.        , 0.        , 0.        , 0.        , 0.        ,\n",
       "        0.        , 0.        , 0.        , 0.        , 0.        ,\n",
       "        0.        , 0.        , 0.        , 0.        , 0.        ,\n",
       "        0.        , 0.        , 0.        , 0.        , 0.        ,\n",
       "        0.        , 0.        , 0.        ],\n",
       "       [0.        , 0.        , 0.        , 0.        , 0.        ,\n",
       "        0.        , 0.        , 0.        , 0.        , 0.        ,\n",
       "        0.        , 0.        , 0.        , 0.        , 0.        ,\n",
       "        0.        , 0.        , 0.        , 0.        , 0.        ,\n",
       "        0.        , 0.        , 0.        , 0.        , 0.        ,\n",
       "        0.        , 0.        , 0.        ],\n",
       "       [0.        , 0.        , 0.        , 0.        , 0.        ,\n",
       "        0.        , 0.        , 0.        , 0.        , 0.        ,\n",
       "        0.        , 0.        , 0.01176471, 0.07058824, 0.07058824,\n",
       "        0.07058824, 0.49411765, 0.53333333, 0.68627451, 0.10196078,\n",
       "        0.65098039, 1.        , 0.96862745, 0.49803922, 0.        ,\n",
       "        0.        , 0.        , 0.        ],\n",
       "       [0.        , 0.        , 0.        , 0.        , 0.        ,\n",
       "        0.        , 0.        , 0.        , 0.11764706, 0.14117647,\n",
       "        0.36862745, 0.60392157, 0.66666667, 0.99215686, 0.99215686,\n",
       "        0.99215686, 0.99215686, 0.99215686, 0.88235294, 0.6745098 ,\n",
       "        0.99215686, 0.94901961, 0.76470588, 0.25098039, 0.        ,\n",
       "        0.        , 0.        , 0.        ],\n",
       "       [0.        , 0.        , 0.        , 0.        , 0.        ,\n",
       "        0.        , 0.        , 0.19215686, 0.93333333, 0.99215686,\n",
       "        0.99215686, 0.99215686, 0.99215686, 0.99215686, 0.99215686,\n",
       "        0.99215686, 0.99215686, 0.98431373, 0.36470588, 0.32156863,\n",
       "        0.32156863, 0.21960784, 0.15294118, 0.        , 0.        ,\n",
       "        0.        , 0.        , 0.        ],\n",
       "       [0.        , 0.        , 0.        , 0.        , 0.        ,\n",
       "        0.        , 0.        , 0.07058824, 0.85882353, 0.99215686,\n",
       "        0.99215686, 0.99215686, 0.99215686, 0.99215686, 0.77647059,\n",
       "        0.71372549, 0.96862745, 0.94509804, 0.        , 0.        ,\n",
       "        0.        , 0.        , 0.        , 0.        , 0.        ,\n",
       "        0.        , 0.        , 0.        ],\n",
       "       [0.        , 0.        , 0.        , 0.        , 0.        ,\n",
       "        0.        , 0.        , 0.        , 0.31372549, 0.61176471,\n",
       "        0.41960784, 0.99215686, 0.99215686, 0.80392157, 0.04313725,\n",
       "        0.        , 0.16862745, 0.60392157, 0.        , 0.        ,\n",
       "        0.        , 0.        , 0.        , 0.        , 0.        ,\n",
       "        0.        , 0.        , 0.        ],\n",
       "       [0.        , 0.        , 0.        , 0.        , 0.        ,\n",
       "        0.        , 0.        , 0.        , 0.        , 0.05490196,\n",
       "        0.00392157, 0.60392157, 0.99215686, 0.35294118, 0.        ,\n",
       "        0.        , 0.        , 0.        , 0.        , 0.        ,\n",
       "        0.        , 0.        , 0.        , 0.        , 0.        ,\n",
       "        0.        , 0.        , 0.        ],\n",
       "       [0.        , 0.        , 0.        , 0.        , 0.        ,\n",
       "        0.        , 0.        , 0.        , 0.        , 0.        ,\n",
       "        0.        , 0.54509804, 0.99215686, 0.74509804, 0.00784314,\n",
       "        0.        , 0.        , 0.        , 0.        , 0.        ,\n",
       "        0.        , 0.        , 0.        , 0.        , 0.        ,\n",
       "        0.        , 0.        , 0.        ],\n",
       "       [0.        , 0.        , 0.        , 0.        , 0.        ,\n",
       "        0.        , 0.        , 0.        , 0.        , 0.        ,\n",
       "        0.        , 0.04313725, 0.74509804, 0.99215686, 0.2745098 ,\n",
       "        0.        , 0.        , 0.        , 0.        , 0.        ,\n",
       "        0.        , 0.        , 0.        , 0.        , 0.        ,\n",
       "        0.        , 0.        , 0.        ],\n",
       "       [0.        , 0.        , 0.        , 0.        , 0.        ,\n",
       "        0.        , 0.        , 0.        , 0.        , 0.        ,\n",
       "        0.        , 0.        , 0.1372549 , 0.94509804, 0.88235294,\n",
       "        0.62745098, 0.42352941, 0.00392157, 0.        , 0.        ,\n",
       "        0.        , 0.        , 0.        , 0.        , 0.        ,\n",
       "        0.        , 0.        , 0.        ],\n",
       "       [0.        , 0.        , 0.        , 0.        , 0.        ,\n",
       "        0.        , 0.        , 0.        , 0.        , 0.        ,\n",
       "        0.        , 0.        , 0.        , 0.31764706, 0.94117647,\n",
       "        0.99215686, 0.99215686, 0.46666667, 0.09803922, 0.        ,\n",
       "        0.        , 0.        , 0.        , 0.        , 0.        ,\n",
       "        0.        , 0.        , 0.        ],\n",
       "       [0.        , 0.        , 0.        , 0.        , 0.        ,\n",
       "        0.        , 0.        , 0.        , 0.        , 0.        ,\n",
       "        0.        , 0.        , 0.        , 0.        , 0.17647059,\n",
       "        0.72941176, 0.99215686, 0.99215686, 0.58823529, 0.10588235,\n",
       "        0.        , 0.        , 0.        , 0.        , 0.        ,\n",
       "        0.        , 0.        , 0.        ],\n",
       "       [0.        , 0.        , 0.        , 0.        , 0.        ,\n",
       "        0.        , 0.        , 0.        , 0.        , 0.        ,\n",
       "        0.        , 0.        , 0.        , 0.        , 0.        ,\n",
       "        0.0627451 , 0.36470588, 0.98823529, 0.99215686, 0.73333333,\n",
       "        0.        , 0.        , 0.        , 0.        , 0.        ,\n",
       "        0.        , 0.        , 0.        ],\n",
       "       [0.        , 0.        , 0.        , 0.        , 0.        ,\n",
       "        0.        , 0.        , 0.        , 0.        , 0.        ,\n",
       "        0.        , 0.        , 0.        , 0.        , 0.        ,\n",
       "        0.        , 0.        , 0.97647059, 0.99215686, 0.97647059,\n",
       "        0.25098039, 0.        , 0.        , 0.        , 0.        ,\n",
       "        0.        , 0.        , 0.        ],\n",
       "       [0.        , 0.        , 0.        , 0.        , 0.        ,\n",
       "        0.        , 0.        , 0.        , 0.        , 0.        ,\n",
       "        0.        , 0.        , 0.        , 0.        , 0.18039216,\n",
       "        0.50980392, 0.71764706, 0.99215686, 0.99215686, 0.81176471,\n",
       "        0.00784314, 0.        , 0.        , 0.        , 0.        ,\n",
       "        0.        , 0.        , 0.        ],\n",
       "       [0.        , 0.        , 0.        , 0.        , 0.        ,\n",
       "        0.        , 0.        , 0.        , 0.        , 0.        ,\n",
       "        0.        , 0.        , 0.15294118, 0.58039216, 0.89803922,\n",
       "        0.99215686, 0.99215686, 0.99215686, 0.98039216, 0.71372549,\n",
       "        0.        , 0.        , 0.        , 0.        , 0.        ,\n",
       "        0.        , 0.        , 0.        ],\n",
       "       [0.        , 0.        , 0.        , 0.        , 0.        ,\n",
       "        0.        , 0.        , 0.        , 0.        , 0.        ,\n",
       "        0.09411765, 0.44705882, 0.86666667, 0.99215686, 0.99215686,\n",
       "        0.99215686, 0.99215686, 0.78823529, 0.30588235, 0.        ,\n",
       "        0.        , 0.        , 0.        , 0.        , 0.        ,\n",
       "        0.        , 0.        , 0.        ],\n",
       "       [0.        , 0.        , 0.        , 0.        , 0.        ,\n",
       "        0.        , 0.        , 0.        , 0.09019608, 0.25882353,\n",
       "        0.83529412, 0.99215686, 0.99215686, 0.99215686, 0.99215686,\n",
       "        0.77647059, 0.31764706, 0.00784314, 0.        , 0.        ,\n",
       "        0.        , 0.        , 0.        , 0.        , 0.        ,\n",
       "        0.        , 0.        , 0.        ],\n",
       "       [0.        , 0.        , 0.        , 0.        , 0.        ,\n",
       "        0.        , 0.07058824, 0.67058824, 0.85882353, 0.99215686,\n",
       "        0.99215686, 0.99215686, 0.99215686, 0.76470588, 0.31372549,\n",
       "        0.03529412, 0.        , 0.        , 0.        , 0.        ,\n",
       "        0.        , 0.        , 0.        , 0.        , 0.        ,\n",
       "        0.        , 0.        , 0.        ],\n",
       "       [0.        , 0.        , 0.        , 0.        , 0.21568627,\n",
       "        0.6745098 , 0.88627451, 0.99215686, 0.99215686, 0.99215686,\n",
       "        0.99215686, 0.95686275, 0.52156863, 0.04313725, 0.        ,\n",
       "        0.        , 0.        , 0.        , 0.        , 0.        ,\n",
       "        0.        , 0.        , 0.        , 0.        , 0.        ,\n",
       "        0.        , 0.        , 0.        ],\n",
       "       [0.        , 0.        , 0.        , 0.        , 0.53333333,\n",
       "        0.99215686, 0.99215686, 0.99215686, 0.83137255, 0.52941176,\n",
       "        0.51764706, 0.0627451 , 0.        , 0.        , 0.        ,\n",
       "        0.        , 0.        , 0.        , 0.        , 0.        ,\n",
       "        0.        , 0.        , 0.        , 0.        , 0.        ,\n",
       "        0.        , 0.        , 0.        ],\n",
       "       [0.        , 0.        , 0.        , 0.        , 0.        ,\n",
       "        0.        , 0.        , 0.        , 0.        , 0.        ,\n",
       "        0.        , 0.        , 0.        , 0.        , 0.        ,\n",
       "        0.        , 0.        , 0.        , 0.        , 0.        ,\n",
       "        0.        , 0.        , 0.        , 0.        , 0.        ,\n",
       "        0.        , 0.        , 0.        ],\n",
       "       [0.        , 0.        , 0.        , 0.        , 0.        ,\n",
       "        0.        , 0.        , 0.        , 0.        , 0.        ,\n",
       "        0.        , 0.        , 0.        , 0.        , 0.        ,\n",
       "        0.        , 0.        , 0.        , 0.        , 0.        ,\n",
       "        0.        , 0.        , 0.        , 0.        , 0.        ,\n",
       "        0.        , 0.        , 0.        ],\n",
       "       [0.        , 0.        , 0.        , 0.        , 0.        ,\n",
       "        0.        , 0.        , 0.        , 0.        , 0.        ,\n",
       "        0.        , 0.        , 0.        , 0.        , 0.        ,\n",
       "        0.        , 0.        , 0.        , 0.        , 0.        ,\n",
       "        0.        , 0.        , 0.        , 0.        , 0.        ,\n",
       "        0.        , 0.        , 0.        ]])"
      ]
     },
     "execution_count": 16,
     "metadata": {},
     "output_type": "execute_result"
    }
   ],
   "source": [
    "X_train[0]"
   ]
  },
  {
   "cell_type": "code",
   "execution_count": 33,
   "id": "61184510",
   "metadata": {},
   "outputs": [],
   "source": [
    "model=Sequential()"
   ]
  },
  {
   "cell_type": "code",
   "execution_count": 34,
   "id": "84a2fddf",
   "metadata": {},
   "outputs": [],
   "source": [
    "input_layer=Flatten(input_shape=(28,28))"
   ]
  },
  {
   "cell_type": "code",
   "execution_count": 35,
   "id": "0a33203b",
   "metadata": {},
   "outputs": [],
   "source": [
    "layer1=Dense(units=150,activation='relu')"
   ]
  },
  {
   "cell_type": "code",
   "execution_count": 36,
   "id": "029c1347",
   "metadata": {},
   "outputs": [],
   "source": [
    "layer2=Dense(units=100,activation='sigmoid')"
   ]
  },
  {
   "cell_type": "code",
   "execution_count": 37,
   "id": "d2d0b743",
   "metadata": {},
   "outputs": [],
   "source": [
    "output_layer=Dense(units=10,activation='softmax')"
   ]
  },
  {
   "cell_type": "code",
   "execution_count": 38,
   "id": "f0f6a990",
   "metadata": {},
   "outputs": [],
   "source": [
    "model.add(input_layer)\n",
    "model.add(layer1)\n",
    "model.add(layer2)\n",
    "model.add(output_layer)"
   ]
  },
  {
   "cell_type": "code",
   "execution_count": 39,
   "id": "66b339c5",
   "metadata": {
    "scrolled": true
   },
   "outputs": [
    {
     "name": "stdout",
     "output_type": "stream",
     "text": [
      "Model: \"sequential_2\"\n",
      "_________________________________________________________________\n",
      " Layer (type)                Output Shape              Param #   \n",
      "=================================================================\n",
      " flatten_2 (Flatten)         (None, 784)               0         \n",
      "                                                                 \n",
      " dense_5 (Dense)             (None, 150)               117750    \n",
      "                                                                 \n",
      " dense_6 (Dense)             (None, 100)               15100     \n",
      "                                                                 \n",
      " dense_7 (Dense)             (None, 10)                1010      \n",
      "                                                                 \n",
      "=================================================================\n",
      "Total params: 133,860\n",
      "Trainable params: 133,860\n",
      "Non-trainable params: 0\n",
      "_________________________________________________________________\n"
     ]
    }
   ],
   "source": [
    "model.summary()"
   ]
  },
  {
   "cell_type": "code",
   "execution_count": 40,
   "id": "7f912167",
   "metadata": {},
   "outputs": [
    {
     "data": {
      "text/plain": [
       "[<tf.Variable 'dense_5/kernel:0' shape=(784, 150) dtype=float32, numpy=\n",
       " array([[ 0.0629832 ,  0.03751832,  0.05173206, ...,  0.00534104,\n",
       "         -0.04349655,  0.00133979],\n",
       "        [-0.03183888, -0.03129866, -0.0281316 , ..., -0.0568979 ,\n",
       "          0.06415193,  0.03260146],\n",
       "        [-0.00817539,  0.07306816, -0.01896453, ...,  0.04406769,\n",
       "         -0.06952839,  0.01546904],\n",
       "        ...,\n",
       "        [-0.02207347,  0.0594258 , -0.06825469, ...,  0.06097245,\n",
       "         -0.03699159, -0.01246347],\n",
       "        [-0.05768081,  0.0790666 , -0.0749737 , ..., -0.03662575,\n",
       "         -0.01403006,  0.05309851],\n",
       "        [ 0.01763681,  0.05343033,  0.07107468, ...,  0.04432889,\n",
       "          0.06872395, -0.00812937]], dtype=float32)>,\n",
       " <tf.Variable 'dense_5/bias:0' shape=(150,) dtype=float32, numpy=\n",
       " array([0., 0., 0., 0., 0., 0., 0., 0., 0., 0., 0., 0., 0., 0., 0., 0., 0.,\n",
       "        0., 0., 0., 0., 0., 0., 0., 0., 0., 0., 0., 0., 0., 0., 0., 0., 0.,\n",
       "        0., 0., 0., 0., 0., 0., 0., 0., 0., 0., 0., 0., 0., 0., 0., 0., 0.,\n",
       "        0., 0., 0., 0., 0., 0., 0., 0., 0., 0., 0., 0., 0., 0., 0., 0., 0.,\n",
       "        0., 0., 0., 0., 0., 0., 0., 0., 0., 0., 0., 0., 0., 0., 0., 0., 0.,\n",
       "        0., 0., 0., 0., 0., 0., 0., 0., 0., 0., 0., 0., 0., 0., 0., 0., 0.,\n",
       "        0., 0., 0., 0., 0., 0., 0., 0., 0., 0., 0., 0., 0., 0., 0., 0., 0.,\n",
       "        0., 0., 0., 0., 0., 0., 0., 0., 0., 0., 0., 0., 0., 0., 0., 0., 0.,\n",
       "        0., 0., 0., 0., 0., 0., 0., 0., 0., 0., 0., 0., 0., 0.],\n",
       "       dtype=float32)>,\n",
       " <tf.Variable 'dense_6/kernel:0' shape=(150, 100) dtype=float32, numpy=\n",
       " array([[ 0.11204006,  0.09652917, -0.12695019, ..., -0.01108702,\n",
       "          0.06134823, -0.13706605],\n",
       "        [-0.05610503,  0.10932778, -0.15302876, ...,  0.12238602,\n",
       "         -0.04740458, -0.07875593],\n",
       "        [ 0.01127188, -0.00331727, -0.04530091, ...,  0.0804344 ,\n",
       "         -0.12699455,  0.05373879],\n",
       "        ...,\n",
       "        [-0.10070191, -0.00468186, -0.14941238, ..., -0.10457598,\n",
       "         -0.06792414,  0.07111527],\n",
       "        [ 0.14585494, -0.13738795,  0.0398016 , ...,  0.01061763,\n",
       "          0.02184363, -0.06646729],\n",
       "        [-0.00728437,  0.133736  , -0.04524484, ...,  0.08761536,\n",
       "          0.12979464, -0.04692896]], dtype=float32)>,\n",
       " <tf.Variable 'dense_6/bias:0' shape=(100,) dtype=float32, numpy=\n",
       " array([0., 0., 0., 0., 0., 0., 0., 0., 0., 0., 0., 0., 0., 0., 0., 0., 0.,\n",
       "        0., 0., 0., 0., 0., 0., 0., 0., 0., 0., 0., 0., 0., 0., 0., 0., 0.,\n",
       "        0., 0., 0., 0., 0., 0., 0., 0., 0., 0., 0., 0., 0., 0., 0., 0., 0.,\n",
       "        0., 0., 0., 0., 0., 0., 0., 0., 0., 0., 0., 0., 0., 0., 0., 0., 0.,\n",
       "        0., 0., 0., 0., 0., 0., 0., 0., 0., 0., 0., 0., 0., 0., 0., 0., 0.,\n",
       "        0., 0., 0., 0., 0., 0., 0., 0., 0., 0., 0., 0., 0., 0., 0.],\n",
       "       dtype=float32)>,\n",
       " <tf.Variable 'dense_7/kernel:0' shape=(100, 10) dtype=float32, numpy=\n",
       " array([[ 0.08461815,  0.18806577,  0.01021279,  0.08992493, -0.16153751,\n",
       "         -0.121665  , -0.2147684 , -0.03530622, -0.02508767, -0.06306648],\n",
       "        [-0.01645264,  0.00991623, -0.14519908,  0.21386087, -0.19222564,\n",
       "          0.10277262, -0.11105601, -0.06826173,  0.05267629, -0.17808911],\n",
       "        [ 0.17224088,  0.1595496 , -0.1955682 , -0.22428884,  0.19004166,\n",
       "         -0.20973335, -0.04203139,  0.05353796, -0.13752374, -0.19048366],\n",
       "        [ 0.11307395,  0.19029546, -0.16286065,  0.12856781, -0.01327328,\n",
       "         -0.20520213,  0.02248469, -0.22394092,  0.11537221,  0.17678016],\n",
       "        [ 0.22097477, -0.17680445,  0.18173605, -0.03513438, -0.07904254,\n",
       "         -0.15010332,  0.1771568 , -0.00343522, -0.12762672, -0.09881793],\n",
       "        [ 0.09835508,  0.18337482, -0.0530894 , -0.18713602,  0.19583759,\n",
       "         -0.20974249,  0.20398942,  0.06622964, -0.04658499,  0.02740726],\n",
       "        [-0.04873496,  0.05482468, -0.05624509, -0.0965742 , -0.18697086,\n",
       "         -0.19220252, -0.05482958, -0.09839687,  0.00069949, -0.10044158],\n",
       "        [ 0.16235626,  0.02210888, -0.1390962 , -0.10527383, -0.05267668,\n",
       "         -0.22980335,  0.12947336, -0.18346442,  0.16032192, -0.13538557],\n",
       "        [-0.00510426,  0.08927989, -0.16007479,  0.00644805,  0.19496843,\n",
       "         -0.1690419 , -0.01581302, -0.08748764, -0.08596088,  0.21388829],\n",
       "        [ 0.05853319, -0.05145326,  0.18644026,  0.04365036, -0.09725003,\n",
       "          0.13087106,  0.12722307,  0.12967515, -0.05375479,  0.18914405],\n",
       "        [ 0.23216069,  0.16298628, -0.07307309, -0.03167593, -0.00871617,\n",
       "         -0.20025684, -0.1094993 ,  0.13767776, -0.01748072,  0.05437994],\n",
       "        [-0.15575856,  0.18265474, -0.12931767,  0.13854212, -0.17077625,\n",
       "         -0.00051947, -0.16011938,  0.123079  ,  0.17796767, -0.09643339],\n",
       "        [-0.20081411,  0.07775694, -0.03077649,  0.02646706, -0.1655246 ,\n",
       "         -0.00750367,  0.01345035, -0.08478525, -0.03286943,  0.19821152],\n",
       "        [ 0.1880239 ,  0.05660352, -0.22719173,  0.22048506,  0.03924313,\n",
       "         -0.08994552, -0.05013755,  0.10624716, -0.00547136,  0.19928625],\n",
       "        [-0.18185191,  0.12991104, -0.16611779,  0.01618409,  0.05105558,\n",
       "         -0.11513098, -0.22072187, -0.04590745,  0.05826131, -0.02629805],\n",
       "        [ 0.13790572,  0.13977754,  0.22640389, -0.14804885,  0.22426853,\n",
       "          0.08423415, -0.12623481, -0.06080922,  0.2037591 , -0.2011231 ],\n",
       "        [-0.06153393,  0.1122022 ,  0.11128303,  0.05070919, -0.00297596,\n",
       "          0.11545718, -0.039792  ,  0.18703163, -0.08962835,  0.12888548],\n",
       "        [-0.1657351 ,  0.14600798, -0.12871408,  0.02424648,  0.1550251 ,\n",
       "         -0.08004282,  0.14501977, -0.21824844, -0.03530683,  0.16312301],\n",
       "        [ 0.21981463, -0.23263738,  0.11803317,  0.12728113, -0.06925438,\n",
       "         -0.07126357, -0.13911921,  0.19954032, -0.04185665,  0.22495702],\n",
       "        [ 0.12638232, -0.1192359 ,  0.19968843, -0.10056286, -0.21953227,\n",
       "         -0.1790592 , -0.16110942, -0.10463749,  0.00901946,  0.14307356],\n",
       "        [-0.04334427,  0.1198214 ,  0.0925132 ,  0.01900357,  0.0917038 ,\n",
       "          0.14255911, -0.0649436 ,  0.21591869,  0.13147545, -0.13749884],\n",
       "        [-0.23016858,  0.21883929, -0.03590825,  0.18946883,  0.22406617,\n",
       "          0.14532676, -0.15996659, -0.13162544,  0.20711851,  0.18166709],\n",
       "        [ 0.18400556,  0.1017352 ,  0.19339702,  0.03656173,  0.12969753,\n",
       "         -0.20658785, -0.15512806,  0.04656833, -0.03804401,  0.13591683],\n",
       "        [-0.21641487, -0.11370328,  0.22830918,  0.11762908, -0.12501793,\n",
       "         -0.1014584 ,  0.058837  , -0.0178481 , -0.1393773 ,  0.14989021],\n",
       "        [-0.11572807, -0.20724623,  0.14846814, -0.04429567,  0.04969504,\n",
       "          0.19169876, -0.20244756, -0.2084653 ,  0.17696744,  0.09730297],\n",
       "        [ 0.14897352, -0.2317498 , -0.0252521 , -0.03578325, -0.03235988,\n",
       "         -0.01035507, -0.00288135, -0.11538088,  0.13089663, -0.19611596],\n",
       "        [ 0.08271152, -0.05472228, -0.12976097, -0.08278765,  0.16061908,\n",
       "         -0.05648051,  0.17502227, -0.09685428, -0.20654958,  0.23188773],\n",
       "        [ 0.13427815, -0.0949388 , -0.22501372, -0.1683402 , -0.10668917,\n",
       "         -0.00528634,  0.22806501, -0.19750851,  0.03775072,  0.11490703],\n",
       "        [ 0.04824612, -0.19710526,  0.09763724,  0.17326972, -0.0135733 ,\n",
       "          0.02036473,  0.04978219, -0.23325245,  0.17756289, -0.12418464],\n",
       "        [-0.09990118,  0.19583541, -0.01839547, -0.09867193,  0.00833468,\n",
       "          0.21703246, -0.14171183,  0.09328622, -0.08340232,  0.02315119],\n",
       "        [-0.03161608, -0.19638424, -0.03515236, -0.03006208, -0.01265471,\n",
       "          0.05971205,  0.00619698,  0.09589872, -0.12579525,  0.11301455],\n",
       "        [ 0.12548661, -0.1763072 ,  0.09513062,  0.03988275, -0.05574678,\n",
       "          0.17959225, -0.21601519,  0.02256012,  0.13789982,  0.12396637],\n",
       "        [-0.14599589,  0.08124071,  0.007838  , -0.20135997, -0.20240602,\n",
       "         -0.08364002,  0.06014293,  0.00621273,  0.23021302, -0.21168709],\n",
       "        [-0.03238656, -0.06278268,  0.20045725,  0.21705678, -0.09991944,\n",
       "         -0.03537849, -0.17465293, -0.11750846,  0.04845414, -0.14785558],\n",
       "        [ 0.02270725,  0.0543375 ,  0.16188636,  0.03221226,  0.18997863,\n",
       "         -0.0516158 ,  0.19882724, -0.14711273, -0.00375205, -0.13476276],\n",
       "        [-0.22624218, -0.14528656, -0.09842269, -0.10442829,  0.03271854,\n",
       "         -0.1287638 ,  0.02977163, -0.19385213, -0.14328304,  0.08053523],\n",
       "        [ 0.23166984,  0.14183736, -0.21810451, -0.21831176,  0.08978793,\n",
       "         -0.00660145, -0.1853642 ,  0.16494277,  0.10068312,  0.14199144],\n",
       "        [-0.19621083, -0.00667301,  0.03254849,  0.21213055, -0.12068666,\n",
       "         -0.02789436, -0.21410166,  0.11470073, -0.00559966, -0.20886983],\n",
       "        [ 0.21112242,  0.10006979,  0.01527323, -0.19533539, -0.10523696,\n",
       "          0.21947125,  0.22726011, -0.12470321, -0.08648324, -0.11271107],\n",
       "        [-0.18842107, -0.08176793,  0.11579323, -0.02109106, -0.04194552,\n",
       "         -0.1829458 ,  0.0377273 ,  0.02784997, -0.06204554,  0.21181214],\n",
       "        [ 0.02874479,  0.06456301,  0.23012355, -0.14899139,  0.06659916,\n",
       "          0.2169379 ,  0.19588983, -0.218106  ,  0.11457431, -0.21405226],\n",
       "        [-0.06067181,  0.06854987,  0.07872465, -0.21771607, -0.01079853,\n",
       "          0.22329685, -0.09271049, -0.17485106, -0.08380407, -0.13110682],\n",
       "        [ 0.0314208 ,  0.17177147, -0.06970596, -0.12530608, -0.19541642,\n",
       "          0.16790572,  0.14193478,  0.18263185,  0.00419913, -0.17997836],\n",
       "        [-0.19345483,  0.01070637, -0.05073424, -0.05224669, -0.11710415,\n",
       "         -0.20515501, -0.22367203,  0.17698842,  0.08415481,  0.14082733],\n",
       "        [ 0.13011828,  0.2194356 , -0.01986231, -0.00642259,  0.18981418,\n",
       "         -0.04144973,  0.05235833, -0.09006418, -0.05275941, -0.0465889 ],\n",
       "        [ 0.03081179, -0.09923856,  0.08082315,  0.12102604,  0.21472836,\n",
       "          0.1263293 ,  0.19850227,  0.01736739,  0.18176383,  0.20449513],\n",
       "        [-0.03044306,  0.18318379,  0.09640905,  0.07445607, -0.20420368,\n",
       "          0.05832967, -0.01733243,  0.07498646,  0.07825893, -0.11672167],\n",
       "        [ 0.19135937,  0.06750807,  0.02639025,  0.11670029,  0.10647374,\n",
       "          0.15264964, -0.01728532,  0.15401831, -0.04788229,  0.15022704],\n",
       "        [ 0.06816667, -0.10832757,  0.0146223 ,  0.0678978 ,  0.04014698,\n",
       "         -0.09472871, -0.08241485,  0.02478147, -0.12780601,  0.10766059],\n",
       "        [-0.20936346, -0.0644948 , -0.05129959,  0.17600915,  0.19827232,\n",
       "          0.14506838,  0.01124889,  0.10868216,  0.07676324, -0.07410316],\n",
       "        [ 0.22506538,  0.10085419, -0.07354756, -0.0255167 ,  0.02513039,\n",
       "         -0.16181108, -0.19649504, -0.23111542, -0.01628415, -0.22766449],\n",
       "        [ 0.20333031,  0.09777823, -0.11179749, -0.21655859, -0.00418448,\n",
       "          0.06259251,  0.05406043, -0.07736945, -0.0740104 ,  0.21434298],\n",
       "        [ 0.01382443,  0.05833268, -0.06458913, -0.03723377, -0.13940792,\n",
       "         -0.09818806,  0.04600784, -0.06198239,  0.19402486,  0.04287347],\n",
       "        [ 0.02435318,  0.13415098,  0.1070365 , -0.14395897, -0.05749416,\n",
       "         -0.01914941, -0.02847207, -0.06245521, -0.09073538,  0.05312964],\n",
       "        [-0.0387979 , -0.01626354, -0.14971176,  0.18206501,  0.07136977,\n",
       "         -0.03295462, -0.18527293,  0.08260891,  0.23248965, -0.19082962],\n",
       "        [ 0.21792665, -0.0850126 , -0.10676345, -0.01415418,  0.10136157,\n",
       "         -0.14244807, -0.17673624, -0.20338058, -0.00660089, -0.18643036],\n",
       "        [ 0.06913248, -0.02916476, -0.02939874,  0.10008299,  0.10167193,\n",
       "         -0.05603278, -0.189001  , -0.10522166,  0.01480924,  0.05320582],\n",
       "        [-0.11337771,  0.05775297, -0.10431938,  0.23216844,  0.01091957,\n",
       "         -0.1453341 ,  0.23100197,  0.22382689, -0.12175203,  0.08707398],\n",
       "        [ 0.22959495, -0.00993082, -0.13228056,  0.1130777 ,  0.22725472,\n",
       "          0.00868386, -0.21239844, -0.15049711, -0.01956196, -0.13251525],\n",
       "        [ 0.14945278,  0.13447234, -0.02104986,  0.1275928 ,  0.15301964,\n",
       "         -0.18512127,  0.22541547, -0.11404266,  0.21227917,  0.17930838],\n",
       "        [-0.1493139 ,  0.06817397, -0.11271046, -0.03123921, -0.22218037,\n",
       "         -0.16343918,  0.22813556,  0.15132666, -0.17682026, -0.10412264],\n",
       "        [-0.10492353,  0.07535395, -0.13649026,  0.06000417,  0.22195819,\n",
       "         -0.07305042, -0.18780628,  0.06697857,  0.09169108, -0.07487732],\n",
       "        [-0.09011535,  0.15794954,  0.18274489, -0.16860859,  0.09201887,\n",
       "         -0.15270346,  0.15402949,  0.11124918,  0.08170685,  0.04014781],\n",
       "        [-0.14051266,  0.15031636,  0.16776505,  0.00183447, -0.03972413,\n",
       "          0.16906253, -0.00551859, -0.06929252, -0.21438178, -0.02127531],\n",
       "        [ 0.10810351,  0.0747605 ,  0.17958313,  0.05762005, -0.22392367,\n",
       "          0.22443718, -0.09151366, -0.06588107,  0.16329882,  0.05029637],\n",
       "        [-0.08699246,  0.11733338,  0.14936069,  0.16920444,  0.22134739,\n",
       "          0.04950219,  0.18499213, -0.22344017, -0.11448668, -0.1408398 ],\n",
       "        [-0.168621  ,  0.19838595,  0.17763963,  0.20574531,  0.13234958,\n",
       "         -0.09172101, -0.2217104 , -0.2131884 ,  0.051184  , -0.16421929],\n",
       "        [-0.11170561,  0.15623933,  0.06482923,  0.21954718, -0.18429232,\n",
       "         -0.14983821, -0.22745238, -0.13056692, -0.19869885,  0.06177449],\n",
       "        [ 0.09535062, -0.12719026,  0.11764193,  0.0500544 ,  0.00504851,\n",
       "          0.209683  , -0.05773315, -0.1496023 ,  0.13852608, -0.16007897],\n",
       "        [ 0.04420143, -0.20131615,  0.02638325, -0.19746163, -0.18402076,\n",
       "         -0.0883255 ,  0.06580213,  0.17565021,  0.11331338, -0.013786  ],\n",
       "        [ 0.17819735, -0.02965644, -0.16650356, -0.16232626, -0.10505059,\n",
       "          0.0456374 , -0.0772617 , -0.01519766, -0.08122653,  0.13986146],\n",
       "        [ 0.03817794,  0.00472188,  0.01350877,  0.09946576,  0.13280112,\n",
       "          0.03570545,  0.19553423, -0.19965765,  0.04717889,  0.18592787],\n",
       "        [-0.11001837, -0.1579994 ,  0.01697221, -0.17316923, -0.039794  ,\n",
       "          0.08889624, -0.07412866, -0.10809571,  0.02665925,  0.1756835 ],\n",
       "        [ 0.10544148, -0.05339837,  0.23169094,  0.04779157, -0.07683679,\n",
       "          0.18357122, -0.13602938,  0.06109121, -0.20204192, -0.00476031],\n",
       "        [-0.18564907, -0.20725219,  0.06107283,  0.19198614, -0.18137148,\n",
       "          0.04440141,  0.05296299,  0.14118353,  0.2296687 ,  0.07703829],\n",
       "        [-0.05382206,  0.06066892,  0.22769567, -0.0678279 ,  0.04153365,\n",
       "         -0.16014862, -0.08217391, -0.11279549,  0.07261169,  0.0562301 ],\n",
       "        [-0.05041607, -0.13870665, -0.19766332,  0.15945303, -0.08923903,\n",
       "          0.18269941,  0.10763037, -0.22569315,  0.19517457,  0.2174513 ],\n",
       "        [ 0.21543574, -0.12055858, -0.0669896 ,  0.03546414, -0.22309428,\n",
       "          0.03005555,  0.18657735,  0.10798714, -0.0892805 , -0.00416544],\n",
       "        [-0.21801141, -0.15822919,  0.09230641,  0.10780138, -0.08507329,\n",
       "         -0.07099424, -0.06720191,  0.20526665,  0.10350412, -0.2234042 ],\n",
       "        [-0.15554312, -0.07567742,  0.07096156,  0.04866925, -0.13124274,\n",
       "         -0.04594308, -0.06474937, -0.02955793,  0.13670671,  0.0136786 ],\n",
       "        [-0.18937206, -0.1471146 ,  0.00501016,  0.03902286,  0.02766785,\n",
       "          0.20801046,  0.1611493 , -0.0378323 ,  0.0653522 , -0.18831554],\n",
       "        [ 0.15311936,  0.00158295, -0.212282  , -0.00657822,  0.04900101,\n",
       "         -0.12860745, -0.06152953, -0.10809945,  0.02844974, -0.0136826 ],\n",
       "        [-0.17882256,  0.0997785 , -0.11511634,  0.17598107,  0.14018413,\n",
       "          0.03914765, -0.04873997,  0.02036634, -0.05556342,  0.18989232],\n",
       "        [ 0.07595655,  0.08222267,  0.07877928, -0.08088101, -0.14985955,\n",
       "          0.17622581,  0.10682452, -0.1343447 ,  0.01208368,  0.07745191],\n",
       "        [ 0.02229524, -0.15436989, -0.19449626, -0.04286969, -0.08428088,\n",
       "          0.03487623,  0.00604028, -0.13495076,  0.04814032,  0.20924863],\n",
       "        [ 0.05961159, -0.04095644,  0.02329069, -0.1417413 ,  0.10944963,\n",
       "          0.17119405,  0.08553907, -0.0761182 ,  0.11471108,  0.00883421],\n",
       "        [ 0.08964583, -0.17963207,  0.19975051, -0.00074436,  0.03710759,\n",
       "          0.00934476,  0.20619532, -0.17734602, -0.20541945, -0.10309502],\n",
       "        [-0.01888485, -0.17622223,  0.16921541, -0.04314432, -0.04598658,\n",
       "         -0.06676976, -0.06055588,  0.15681925,  0.18941611, -0.22967674],\n",
       "        [ 0.12391213, -0.18352796, -0.09754197,  0.07191572,  0.01137784,\n",
       "          0.09534746, -0.1943389 ,  0.08667034,  0.05605176, -0.08149821],\n",
       "        [-0.15144171,  0.22505346,  0.17436779, -0.15592676, -0.1125512 ,\n",
       "          0.0783979 ,  0.02564535,  0.17664474, -0.17019984,  0.05012301],\n",
       "        [ 0.15882394, -0.00148879, -0.23332724,  0.21201143, -0.15817624,\n",
       "          0.20938039, -0.15085208, -0.08887775,  0.11868131, -0.13948655],\n",
       "        [ 0.23343915, -0.05790655, -0.03916907, -0.01512501, -0.21665114,\n",
       "         -0.11063985, -0.22211477,  0.0848645 , -0.01862432, -0.1357205 ],\n",
       "        [-0.15268387,  0.19782656, -0.16954795, -0.22945495, -0.1650399 ,\n",
       "         -0.09392349,  0.1577678 , -0.03504772,  0.04888317,  0.050513  ],\n",
       "        [ 0.07884809, -0.19371888, -0.18892238, -0.00690776, -0.11946248,\n",
       "          0.04873228, -0.1249648 ,  0.17984366, -0.05150917,  0.01354513],\n",
       "        [-0.20169725,  0.21180108, -0.17018837, -0.11133755, -0.1694749 ,\n",
       "          0.1486088 ,  0.09097299, -0.02736448, -0.2071537 ,  0.17644665],\n",
       "        [-0.09574798, -0.21010163, -0.21663281,  0.07666138,  0.17078277,\n",
       "          0.06186536, -0.21198377,  0.08089963, -0.00957385,  0.22769025],\n",
       "        [-0.15023288, -0.17074814,  0.11154479, -0.05173145,  0.00961421,\n",
       "         -0.04639997,  0.03857756,  0.125072  , -0.17341822,  0.2180329 ],\n",
       "        [-0.06176023, -0.04217355, -0.1284929 , -0.05943303, -0.04008244,\n",
       "          0.21922773, -0.0074055 ,  0.14541525, -0.16197062, -0.07577993],\n",
       "        [-0.05808529,  0.04362836, -0.14870006,  0.07618997,  0.09068376,\n",
       "          0.05075413,  0.05921337,  0.02756348,  0.21555665,  0.04079536],\n",
       "        [ 0.09131527, -0.13431987,  0.20936611,  0.08007044, -0.04027554,\n",
       "         -0.21175095,  0.21616805, -0.22637403, -0.05153322, -0.11300909]],\n",
       "       dtype=float32)>,\n",
       " <tf.Variable 'dense_7/bias:0' shape=(10,) dtype=float32, numpy=array([0., 0., 0., 0., 0., 0., 0., 0., 0., 0.], dtype=float32)>]"
      ]
     },
     "execution_count": 40,
     "metadata": {},
     "output_type": "execute_result"
    }
   ],
   "source": [
    "model.weights"
   ]
  },
  {
   "cell_type": "code",
   "execution_count": 41,
   "id": "45f18092",
   "metadata": {
    "scrolled": true
   },
   "outputs": [
    {
     "data": {
      "text/plain": [
       "<tf.Variable 'dense_5/kernel:0' shape=(784, 150) dtype=float32, numpy=\n",
       "array([[ 0.0629832 ,  0.03751832,  0.05173206, ...,  0.00534104,\n",
       "        -0.04349655,  0.00133979],\n",
       "       [-0.03183888, -0.03129866, -0.0281316 , ..., -0.0568979 ,\n",
       "         0.06415193,  0.03260146],\n",
       "       [-0.00817539,  0.07306816, -0.01896453, ...,  0.04406769,\n",
       "        -0.06952839,  0.01546904],\n",
       "       ...,\n",
       "       [-0.02207347,  0.0594258 , -0.06825469, ...,  0.06097245,\n",
       "        -0.03699159, -0.01246347],\n",
       "       [-0.05768081,  0.0790666 , -0.0749737 , ..., -0.03662575,\n",
       "        -0.01403006,  0.05309851],\n",
       "       [ 0.01763681,  0.05343033,  0.07107468, ...,  0.04432889,\n",
       "         0.06872395, -0.00812937]], dtype=float32)>"
      ]
     },
     "execution_count": 41,
     "metadata": {},
     "output_type": "execute_result"
    }
   ],
   "source": [
    "model.weights[0]"
   ]
  },
  {
   "cell_type": "code",
   "execution_count": 43,
   "id": "723b6b33",
   "metadata": {
    "scrolled": true
   },
   "outputs": [
    {
     "data": {
      "text/plain": [
       "<tf.Tensor: shape=(150,), dtype=float32, numpy=\n",
       "array([ 0.0629832 ,  0.03751832,  0.05173206,  0.05901682, -0.04903397,\n",
       "        0.02851976,  0.01416679, -0.05094772, -0.07226396, -0.03121576,\n",
       "       -0.05513122,  0.00205768, -0.02846323, -0.04820307, -0.07656787,\n",
       "        0.04293112,  0.03927143,  0.0132578 ,  0.05833344, -0.03884495,\n",
       "        0.02543175,  0.07960446,  0.05120556, -0.02956767, -0.07413177,\n",
       "       -0.06738499, -0.03491742,  0.06223856,  0.07587592,  0.02979176,\n",
       "        0.05826271,  0.02242275, -0.01508894, -0.06479648,  0.04500861,\n",
       "       -0.02812506,  0.04377022, -0.07774423,  0.01435721, -0.05218338,\n",
       "       -0.02767978, -0.03671166,  0.00269602,  0.00978567, -0.00556188,\n",
       "        0.00810836,  0.01447045, -0.03546475,  0.01046081,  0.04338906,\n",
       "        0.06517276,  0.04805011, -0.04426453, -0.00626137,  0.07910603,\n",
       "        0.0679716 , -0.01941375, -0.03033783,  0.00063682,  0.07930309,\n",
       "       -0.04561582, -0.00201579, -0.07019207,  0.03642388,  0.02287376,\n",
       "       -0.06248497, -0.02768123,  0.06832384,  0.01791596,  0.06989329,\n",
       "       -0.05010422,  0.03004381, -0.01100728,  0.0458778 , -0.0339722 ,\n",
       "        0.01207983, -0.05993575, -0.02344166, -0.06072079,  0.01468589,\n",
       "        0.01872616, -0.06647631,  0.07992335, -0.03839059,  0.03891067,\n",
       "       -0.01964394, -0.05149967, -0.04760225,  0.06462148,  0.00604472,\n",
       "        0.0241641 , -0.0440669 , -0.02819552, -0.0239751 , -0.02093294,\n",
       "       -0.07419679, -0.02383722, -0.03949619, -0.08001003,  0.01713619,\n",
       "       -0.04697591, -0.06653665, -0.01584079, -0.02297328,  0.04331467,\n",
       "        0.00969591, -0.02781497, -0.05371215,  0.0241685 , -0.0204184 ,\n",
       "        0.03775154, -0.02468655, -0.0126745 ,  0.04788975,  0.05393179,\n",
       "        0.06266269,  0.07425629,  0.03424868,  0.00540326,  0.02227125,\n",
       "        0.00249268,  0.04702818, -0.00238173,  0.04953754, -0.02238278,\n",
       "       -0.01252215, -0.01976508,  0.0099137 , -0.03743464, -0.07119633,\n",
       "        0.04036649, -0.00531235,  0.01032288,  0.06268997, -0.00117902,\n",
       "        0.07630809,  0.03788814,  0.04179409, -0.03630544, -0.05161991,\n",
       "        0.04555279, -0.01362328, -0.00542044, -0.07319172,  0.05272186,\n",
       "       -0.02484229, -0.03906243,  0.00534104, -0.04349655,  0.00133979],\n",
       "      dtype=float32)>"
      ]
     },
     "execution_count": 43,
     "metadata": {},
     "output_type": "execute_result"
    }
   ],
   "source": [
    "model.weights[0][0]"
   ]
  },
  {
   "cell_type": "code",
   "execution_count": 44,
   "id": "768f7f32",
   "metadata": {},
   "outputs": [
    {
     "data": {
      "text/plain": [
       "<tf.Tensor: shape=(150,), dtype=float32, numpy=\n",
       "array([-0.03183888, -0.03129866, -0.0281316 , -0.07714763, -0.05925066,\n",
       "       -0.00934944,  0.02765482, -0.02788509, -0.06820446, -0.04435348,\n",
       "       -0.05007055, -0.06387497,  0.04264577, -0.0680389 ,  0.00224772,\n",
       "       -0.018181  , -0.07776468, -0.04141004, -0.01389513, -0.05775216,\n",
       "        0.06516103, -0.01780394,  0.02518068, -0.04211723, -0.02061974,\n",
       "        0.03575653, -0.00212198, -0.00013506, -0.0744018 ,  0.04983824,\n",
       "       -0.03904719,  0.05143128, -0.03458748, -0.07854273,  0.05180512,\n",
       "        0.01588772,  0.05788772,  0.05335726,  0.02879193,  0.06411377,\n",
       "       -0.00107063,  0.04153161,  0.06624724,  0.06188756, -0.07618949,\n",
       "        0.05405554, -0.03327149, -0.0300502 ,  0.06638271,  0.06189321,\n",
       "       -0.0446063 ,  0.04693045, -0.00587609, -0.01608398,  0.03901099,\n",
       "        0.00546836,  0.06127858, -0.03775133,  0.06320681,  0.02099966,\n",
       "       -0.03546115, -0.0427181 , -0.07173096,  0.01131918, -0.02191805,\n",
       "       -0.05381727, -0.02619249, -0.06236476,  0.02327462,  0.07115579,\n",
       "        0.03750058,  0.07688823, -0.07911394,  0.00238385, -0.07434218,\n",
       "        0.0555056 , -0.07304136, -0.00394689, -0.02588336, -0.03110676,\n",
       "       -0.06990002, -0.02617447,  0.07283266,  0.03631619,  0.05894899,\n",
       "        0.01688571,  0.04166436, -0.03763727, -0.07594984,  0.03998405,\n",
       "        0.00143474, -0.05711582, -0.05415587, -0.03956351,  0.03541023,\n",
       "       -0.05652816, -0.00664084,  0.05598468,  0.02213985,  0.05667934,\n",
       "        0.03135172, -0.07047781, -0.02530271, -0.04514734, -0.02458818,\n",
       "        0.02437318,  0.06818406, -0.03238796, -0.06499636, -0.03011392,\n",
       "       -0.06026401, -0.04692462, -0.00378688,  0.07003424, -0.01556791,\n",
       "       -0.07773975,  0.0090101 ,  0.0740245 , -0.02361747,  0.03340086,\n",
       "       -0.00901214,  0.03245411, -0.07335462, -0.04669847,  0.0022227 ,\n",
       "       -0.00490364,  0.04588023,  0.00650108,  0.00343967,  0.00326052,\n",
       "       -0.0389872 , -0.03319966,  0.01078752,  0.0307335 ,  0.06321108,\n",
       "       -0.0643235 ,  0.05078521, -0.00832608, -0.02061859, -0.07598969,\n",
       "       -0.0511738 ,  0.01141239,  0.06580567,  0.06052051,  0.04836568,\n",
       "        0.0008079 , -0.0723073 , -0.0568979 ,  0.06415193,  0.03260146],\n",
       "      dtype=float32)>"
      ]
     },
     "execution_count": 44,
     "metadata": {},
     "output_type": "execute_result"
    }
   ],
   "source": [
    "model.weights[0][1]"
   ]
  },
  {
   "cell_type": "code",
   "execution_count": 45,
   "id": "91f0e5ca",
   "metadata": {},
   "outputs": [
    {
     "data": {
      "text/plain": [
       "<tf.Variable 'dense_5/bias:0' shape=(150,) dtype=float32, numpy=\n",
       "array([0., 0., 0., 0., 0., 0., 0., 0., 0., 0., 0., 0., 0., 0., 0., 0., 0.,\n",
       "       0., 0., 0., 0., 0., 0., 0., 0., 0., 0., 0., 0., 0., 0., 0., 0., 0.,\n",
       "       0., 0., 0., 0., 0., 0., 0., 0., 0., 0., 0., 0., 0., 0., 0., 0., 0.,\n",
       "       0., 0., 0., 0., 0., 0., 0., 0., 0., 0., 0., 0., 0., 0., 0., 0., 0.,\n",
       "       0., 0., 0., 0., 0., 0., 0., 0., 0., 0., 0., 0., 0., 0., 0., 0., 0.,\n",
       "       0., 0., 0., 0., 0., 0., 0., 0., 0., 0., 0., 0., 0., 0., 0., 0., 0.,\n",
       "       0., 0., 0., 0., 0., 0., 0., 0., 0., 0., 0., 0., 0., 0., 0., 0., 0.,\n",
       "       0., 0., 0., 0., 0., 0., 0., 0., 0., 0., 0., 0., 0., 0., 0., 0., 0.,\n",
       "       0., 0., 0., 0., 0., 0., 0., 0., 0., 0., 0., 0., 0., 0.],\n",
       "      dtype=float32)>"
      ]
     },
     "execution_count": 45,
     "metadata": {},
     "output_type": "execute_result"
    }
   ],
   "source": [
    "model.weights[1]"
   ]
  },
  {
   "cell_type": "code",
   "execution_count": 47,
   "id": "9c42bf73",
   "metadata": {
    "scrolled": true
   },
   "outputs": [
    {
     "data": {
      "text/plain": [
       "<tf.Variable 'dense_6/kernel:0' shape=(150, 100) dtype=float32, numpy=\n",
       "array([[ 0.11204006,  0.09652917, -0.12695019, ..., -0.01108702,\n",
       "         0.06134823, -0.13706605],\n",
       "       [-0.05610503,  0.10932778, -0.15302876, ...,  0.12238602,\n",
       "        -0.04740458, -0.07875593],\n",
       "       [ 0.01127188, -0.00331727, -0.04530091, ...,  0.0804344 ,\n",
       "        -0.12699455,  0.05373879],\n",
       "       ...,\n",
       "       [-0.10070191, -0.00468186, -0.14941238, ..., -0.10457598,\n",
       "        -0.06792414,  0.07111527],\n",
       "       [ 0.14585494, -0.13738795,  0.0398016 , ...,  0.01061763,\n",
       "         0.02184363, -0.06646729],\n",
       "       [-0.00728437,  0.133736  , -0.04524484, ...,  0.08761536,\n",
       "         0.12979464, -0.04692896]], dtype=float32)>"
      ]
     },
     "execution_count": 47,
     "metadata": {},
     "output_type": "execute_result"
    }
   ],
   "source": [
    "model.weights[2]"
   ]
  },
  {
   "cell_type": "code",
   "execution_count": 52,
   "id": "a15d51f6",
   "metadata": {},
   "outputs": [],
   "source": [
    "model.compile(optimizer='SGD', loss='sparse_categorical_crossentropy', metrics=['accuracy'])"
   ]
  },
  {
   "cell_type": "code",
   "execution_count": 53,
   "id": "c57e2d44",
   "metadata": {
    "scrolled": true
   },
   "outputs": [
    {
     "name": "stdout",
     "output_type": "stream",
     "text": [
      "Epoch 1/30\n",
      "1875/1875 [==============================] - 6s 3ms/step - loss: 0.6246 - accuracy: 0.8404 - val_loss: 0.3304 - val_accuracy: 0.9100\n",
      "Epoch 2/30\n",
      "1875/1875 [==============================] - 5s 3ms/step - loss: 0.2864 - accuracy: 0.9219 - val_loss: 0.2505 - val_accuracy: 0.9308\n",
      "Epoch 3/30\n",
      "1875/1875 [==============================] - 5s 3ms/step - loss: 0.2265 - accuracy: 0.9363 - val_loss: 0.2072 - val_accuracy: 0.9421\n",
      "Epoch 4/30\n",
      "1875/1875 [==============================] - 5s 3ms/step - loss: 0.1863 - accuracy: 0.9474 - val_loss: 0.1750 - val_accuracy: 0.9503\n",
      "Epoch 5/30\n",
      "1875/1875 [==============================] - 5s 2ms/step - loss: 0.1619 - accuracy: 0.9536 - val_loss: 0.1557 - val_accuracy: 0.9545\n",
      "Epoch 6/30\n",
      "1875/1875 [==============================] - 5s 3ms/step - loss: 0.1442 - accuracy: 0.9582 - val_loss: 0.1576 - val_accuracy: 0.9514\n",
      "Epoch 7/30\n",
      "1875/1875 [==============================] - 5s 3ms/step - loss: 0.1300 - accuracy: 0.9618 - val_loss: 0.1383 - val_accuracy: 0.9601\n",
      "Epoch 8/30\n",
      "1875/1875 [==============================] - 5s 2ms/step - loss: 0.1194 - accuracy: 0.9648 - val_loss: 0.1312 - val_accuracy: 0.9623\n",
      "Epoch 9/30\n",
      "1875/1875 [==============================] - 5s 2ms/step - loss: 0.1107 - accuracy: 0.9679 - val_loss: 0.1219 - val_accuracy: 0.9627\n",
      "Epoch 10/30\n",
      "1875/1875 [==============================] - 5s 3ms/step - loss: 0.1020 - accuracy: 0.9703 - val_loss: 0.1168 - val_accuracy: 0.9637\n",
      "Epoch 11/30\n",
      "1875/1875 [==============================] - 5s 3ms/step - loss: 0.0954 - accuracy: 0.9721 - val_loss: 0.1146 - val_accuracy: 0.9653\n",
      "Epoch 12/30\n",
      "1875/1875 [==============================] - 5s 3ms/step - loss: 0.0905 - accuracy: 0.9733 - val_loss: 0.1029 - val_accuracy: 0.9690\n",
      "Epoch 13/30\n",
      "1875/1875 [==============================] - 5s 3ms/step - loss: 0.0831 - accuracy: 0.9754 - val_loss: 0.1018 - val_accuracy: 0.9691\n",
      "Epoch 14/30\n",
      "1875/1875 [==============================] - 4s 2ms/step - loss: 0.0777 - accuracy: 0.9775 - val_loss: 0.1038 - val_accuracy: 0.9693\n",
      "Epoch 15/30\n",
      "1875/1875 [==============================] - 5s 2ms/step - loss: 0.0774 - accuracy: 0.9770 - val_loss: 0.0983 - val_accuracy: 0.9716\n",
      "Epoch 16/30\n",
      "1875/1875 [==============================] - 5s 3ms/step - loss: 0.0729 - accuracy: 0.9784 - val_loss: 0.0979 - val_accuracy: 0.9704\n",
      "Epoch 17/30\n",
      "1875/1875 [==============================] - 5s 2ms/step - loss: 0.0702 - accuracy: 0.9789 - val_loss: 0.0954 - val_accuracy: 0.9726\n",
      "Epoch 18/30\n",
      "1875/1875 [==============================] - 5s 3ms/step - loss: 0.0658 - accuracy: 0.9808 - val_loss: 0.0954 - val_accuracy: 0.9710\n",
      "Epoch 19/30\n",
      "1875/1875 [==============================] - 5s 3ms/step - loss: 0.0615 - accuracy: 0.9820 - val_loss: 0.0976 - val_accuracy: 0.9709\n",
      "Epoch 20/30\n",
      "1875/1875 [==============================] - 5s 3ms/step - loss: 0.0584 - accuracy: 0.9832 - val_loss: 0.0920 - val_accuracy: 0.9718\n",
      "Epoch 21/30\n",
      "1875/1875 [==============================] - 5s 2ms/step - loss: 0.0565 - accuracy: 0.9832 - val_loss: 0.0959 - val_accuracy: 0.9720\n",
      "Epoch 22/30\n",
      "1875/1875 [==============================] - 5s 3ms/step - loss: 0.0531 - accuracy: 0.9840 - val_loss: 0.0973 - val_accuracy: 0.9700\n",
      "Epoch 23/30\n",
      "1875/1875 [==============================] - 5s 2ms/step - loss: 0.0533 - accuracy: 0.9840 - val_loss: 0.0899 - val_accuracy: 0.9732\n",
      "Epoch 24/30\n",
      "1875/1875 [==============================] - 5s 3ms/step - loss: 0.0490 - accuracy: 0.9853 - val_loss: 0.0874 - val_accuracy: 0.9741\n",
      "Epoch 25/30\n",
      "1875/1875 [==============================] - 5s 3ms/step - loss: 0.0471 - accuracy: 0.9862 - val_loss: 0.0864 - val_accuracy: 0.9732\n",
      "Epoch 26/30\n",
      "1875/1875 [==============================] - 5s 3ms/step - loss: 0.0435 - accuracy: 0.9870 - val_loss: 0.0872 - val_accuracy: 0.9738\n",
      "Epoch 27/30\n",
      "1875/1875 [==============================] - 5s 3ms/step - loss: 0.0435 - accuracy: 0.9870 - val_loss: 0.0845 - val_accuracy: 0.9745\n",
      "Epoch 28/30\n",
      "1875/1875 [==============================] - 5s 3ms/step - loss: 0.0418 - accuracy: 0.9878 - val_loss: 0.0857 - val_accuracy: 0.9752\n",
      "Epoch 29/30\n",
      "1875/1875 [==============================] - 5s 3ms/step - loss: 0.0409 - accuracy: 0.9882 - val_loss: 0.0848 - val_accuracy: 0.9755\n",
      "Epoch 30/30\n",
      "1875/1875 [==============================] - 5s 3ms/step - loss: 0.0375 - accuracy: 0.9895 - val_loss: 0.0881 - val_accuracy: 0.9747\n"
     ]
    }
   ],
   "source": [
    "training_history=model.fit(X_train,y_train,epochs=30,validation_data=(X_test,y_test),verbose=1)"
   ]
  },
  {
   "cell_type": "code",
   "execution_count": 13,
   "id": "64204c3b",
   "metadata": {},
   "outputs": [
    {
     "data": {
      "text/plain": [
       "<tf.Tensor: shape=(5,), dtype=float32, numpy=\n",
       "array([ 0.08051987,  0.00264419, -0.00945762,  0.07738686,  0.01519668],\n",
       "      dtype=float32)>"
      ]
     },
     "execution_count": 13,
     "metadata": {},
     "output_type": "execute_result"
    }
   ],
   "source": [
    "model.weights[0][0]"
   ]
  },
  {
   "cell_type": "code",
   "execution_count": 15,
   "id": "41248e8d",
   "metadata": {},
   "outputs": [
    {
     "data": {
      "text/plain": [
       "<tf.Variable 'dense/bias:0' shape=(5,) dtype=float32, numpy=\n",
       "array([-4.19679243e-04,  1.04707115e-05,  1.82379954e-05, -1.18515233e-03,\n",
       "       -7.10317807e-04], dtype=float32)>"
      ]
     },
     "execution_count": 15,
     "metadata": {},
     "output_type": "execute_result"
    }
   ],
   "source": [
    "model.weights[1]"
   ]
  },
  {
   "cell_type": "code",
   "execution_count": null,
   "id": "e1b77444",
   "metadata": {},
   "outputs": [],
   "source": [
    "training_history.history"
   ]
  },
  {
   "cell_type": "code",
   "execution_count": null,
   "id": "da65dd1e",
   "metadata": {},
   "outputs": [],
   "source": [
    "result=pd.DataFrame(training_history.history)\n",
    "result"
   ]
  },
  {
   "cell_type": "code",
   "execution_count": null,
   "id": "15178ebd",
   "metadata": {
    "scrolled": false
   },
   "outputs": [],
   "source": [
    "result[[\"loss\",\"val_loss\"]].plot()"
   ]
  },
  {
   "cell_type": "code",
   "execution_count": null,
   "id": "406eda82",
   "metadata": {},
   "outputs": [],
   "source": [
    "result[[\"accuracy\",\"val_accuracy\"]].plot()"
   ]
  },
  {
   "cell_type": "code",
   "execution_count": 99,
   "id": "7f19e031",
   "metadata": {},
   "outputs": [
    {
     "name": "stdout",
     "output_type": "stream",
     "text": [
      "313/313 [==============================] - 0s 1ms/step\n"
     ]
    }
   ],
   "source": [
    "y_pred=model.predict(X_test)"
   ]
  },
  {
   "cell_type": "code",
   "execution_count": 100,
   "id": "f38f8ce6",
   "metadata": {},
   "outputs": [
    {
     "data": {
      "text/plain": [
       "array([[0.04677481, 0.03906905, 0.10259102, ..., 0.2341461 , 0.1801243 ,\n",
       "        0.1691219 ],\n",
       "       [0.35625806, 0.06015719, 0.2037315 , ..., 0.01394816, 0.0414588 ,\n",
       "        0.0146502 ],\n",
       "       [0.01774704, 0.5410049 , 0.07031505, ..., 0.03431302, 0.07449847,\n",
       "        0.04247947],\n",
       "       ...,\n",
       "       [0.01549449, 0.10441361, 0.03383459, ..., 0.14136115, 0.09182759,\n",
       "        0.16928475],\n",
       "       [0.06290364, 0.07202359, 0.04736969, ..., 0.1000461 , 0.11769196,\n",
       "        0.10442424],\n",
       "       [0.07655822, 0.03325182, 0.0980291 , ..., 0.03500698, 0.02048348,\n",
       "        0.04687932]], dtype=float32)"
      ]
     },
     "execution_count": 100,
     "metadata": {},
     "output_type": "execute_result"
    }
   ],
   "source": [
    "y_pred"
   ]
  },
  {
   "cell_type": "code",
   "execution_count": 101,
   "id": "54c1c077",
   "metadata": {},
   "outputs": [
    {
     "data": {
      "text/plain": [
       "(10000, 10)"
      ]
     },
     "execution_count": 101,
     "metadata": {},
     "output_type": "execute_result"
    }
   ],
   "source": [
    "y_pred.shape"
   ]
  },
  {
   "cell_type": "code",
   "execution_count": 102,
   "id": "f54b0e73",
   "metadata": {},
   "outputs": [
    {
     "data": {
      "text/plain": [
       "2"
      ]
     },
     "execution_count": 102,
     "metadata": {},
     "output_type": "execute_result"
    }
   ],
   "source": [
    "y_pred.ndim"
   ]
  },
  {
   "cell_type": "code",
   "execution_count": 104,
   "id": "41a7ade8",
   "metadata": {},
   "outputs": [
    {
     "data": {
      "text/plain": [
       "array([0.04677481, 0.03906905, 0.10259102, 0.05145361, 0.07067044,\n",
       "       0.0749623 , 0.03108648, 0.2341461 , 0.1801243 , 0.1691219 ],\n",
       "      dtype=float32)"
      ]
     },
     "execution_count": 104,
     "metadata": {},
     "output_type": "execute_result"
    }
   ],
   "source": [
    "y_pred[0]"
   ]
  },
  {
   "cell_type": "code",
   "execution_count": 105,
   "id": "a63310ee",
   "metadata": {},
   "outputs": [
    {
     "data": {
      "text/plain": [
       "7"
      ]
     },
     "execution_count": 105,
     "metadata": {},
     "output_type": "execute_result"
    }
   ],
   "source": [
    "y_test[0]"
   ]
  },
  {
   "cell_type": "code",
   "execution_count": 106,
   "id": "84d88f5a",
   "metadata": {
    "colab": {
     "base_uri": "https://localhost:8080/",
     "height": 282
    },
    "id": "CayeiuS2eE7u",
    "outputId": "47030f18-90bd-40c2-f428-0ece3e4a0f72"
   },
   "outputs": [
    {
     "data": {
      "text/plain": [
       "<matplotlib.image.AxesImage at 0x1c48b56f190>"
      ]
     },
     "execution_count": 106,
     "metadata": {},
     "output_type": "execute_result"
    },
    {
     "data": {
      "image/png": "[encoded data removed]",
      "text/plain": [
       "<Figure size 640x480 with 1 Axes>"
      ]
     },
     "metadata": {},
     "output_type": "display_data"
    }
   ],
   "source": [
    "plt.imshow(X_test[0],cmap='gray')"
   ]
  },
  {
   "cell_type": "code",
   "execution_count": 107,
   "id": "c044ebee",
   "metadata": {
    "colab": {
     "base_uri": "https://localhost:8080/"
    },
    "id": "lIf1ksseebi-",
    "outputId": "2a49518b-23dc-4ca4-b94f-b68395120f43"
   },
   "outputs": [
    {
     "data": {
      "text/plain": [
       "7"
      ]
     },
     "execution_count": 107,
     "metadata": {},
     "output_type": "execute_result"
    }
   ],
   "source": [
    "np.argmax(y_pred[0])"
   ]
  },
  {
   "cell_type": "code",
   "execution_count": 108,
   "id": "383b80cc",
   "metadata": {
    "colab": {
     "base_uri": "https://localhost:8080/"
    },
    "id": "FAlOXayO1hA7",
    "outputId": "2da89db7-f3b9-41e4-b0ca-b2d93ec5f08f"
   },
   "outputs": [
    {
     "data": {
      "text/plain": [
       "array([7, 2, 1, 0, 4, 1, 4, 9, 5, 9], dtype=uint8)"
      ]
     },
     "execution_count": 108,
     "metadata": {},
     "output_type": "execute_result"
    }
   ],
   "source": [
    "y_test[:10]"
   ]
  },
  {
   "cell_type": "code",
   "execution_count": 109,
   "id": "909306fa",
   "metadata": {
    "id": "yGdBKmI-fVTA"
   },
   "outputs": [],
   "source": [
    "y_pred_10=y_pred[0:10]"
   ]
  },
  {
   "cell_type": "code",
   "execution_count": 110,
   "id": "604f52ed",
   "metadata": {
    "colab": {
     "base_uri": "https://localhost:8080/",
     "height": 142
    },
    "id": "pHdmX-wx1tb9",
    "outputId": "e3dcc029-5ee2-45e7-cc37-6e3661619311"
   },
   "outputs": [
    {
     "data": {
      "image/png": "[encoded data removed]",
      "text/plain": [
       "<Figure size 2000x1000 with 10 Axes>"
      ]
     },
     "metadata": {},
     "output_type": "display_data"
    }
   ],
   "source": [
    "# Display some images\n",
    "fig, axes = plt.subplots(ncols=10, sharex=False, \n",
    "    sharey=True, figsize=(20, 10))\n",
    "for i in range(10):\n",
    "    axes[i].set_title(str(y_test[i])+\"-\"+str(np.argmax(y_pred_10[i])))\n",
    "    axes[i].imshow(X_test[i], cmap='gray')\n",
    "    axes[i].get_xaxis().set_visible(False)\n",
    "    axes[i].get_yaxis().set_visible(False)\n",
    "plt.show()"
   ]
  },
  {
   "cell_type": "code",
   "execution_count": 111,
   "id": "a3403025",
   "metadata": {
    "colab": {
     "base_uri": "https://localhost:8080/"
    },
    "id": "wfl9Wh3q2ePV",
    "outputId": "aee14acf-4aa5-4445-c226-f7e653e4d65a"
   },
   "outputs": [
    {
     "data": {
      "text/plain": [
       "array([7, 0, 1, ..., 4, 5, 6], dtype=int64)"
      ]
     },
     "execution_count": 111,
     "metadata": {},
     "output_type": "execute_result"
    }
   ],
   "source": [
    "final_y_predicted=np.argmax(y_pred,axis=1)\n",
    "final_y_predicted"
   ]
  },
  {
   "cell_type": "code",
   "execution_count": 112,
   "id": "00b29032",
   "metadata": {
    "colab": {
     "base_uri": "https://localhost:8080/"
    },
    "id": "X0O_aZGq6_R3",
    "outputId": "dcab0943-f218-4adf-a7c9-3458d02090a9"
   },
   "outputs": [
    {
     "data": {
      "text/plain": [
       "<tf.Tensor: shape=(10, 10), dtype=int32, numpy=\n",
       "array([[ 930,    0,   14,    4,    1,    4,   22,    1,    4,    0],\n",
       "       [   0, 1122,    2,    1,    1,    0,    3,    0,    6,    0],\n",
       "       [  82,  135,  701,   17,    1,    1,   61,    5,   28,    1],\n",
       "       [  33,   55,   17,  793,    2,   13,    5,    6,   84,    2],\n",
       "       [   1,   23,    5,    1,  636,    3,  249,   50,    5,    9],\n",
       "       [  97,   15,   17,  315,   29,  343,   41,   10,   23,    2],\n",
       "       [  40,    7,   16,    1,    1,    4,  889,    0,    0,    0],\n",
       "       [   8,   52,   17,    1,   37,   22,    2,  715,  166,    8],\n",
       "       [  21,   89,   19,  121,   16,   10,   31,   44,  618,    5],\n",
       "       [   6,   21,   31,   10,  239,   17,   23,  556,   35,   71]])>"
      ]
     },
     "execution_count": 112,
     "metadata": {},
     "output_type": "execute_result"
    }
   ],
   "source": [
    "cm = tf.math.confusion_matrix(labels=y_test,predictions=final_y_predicted)\n",
    "cm"
   ]
  },
  {
   "cell_type": "code",
   "execution_count": 113,
   "id": "b61f4bde",
   "metadata": {
    "colab": {
     "base_uri": "https://localhost:8080/",
     "height": 465
    },
    "id": "nPkVSmXl7Of1",
    "outputId": "c8a4b239-8e90-46be-abfd-b5b61e891f43",
    "scrolled": true
   },
   "outputs": [
    {
     "data": {
      "text/plain": [
       "Text(154.75, 0.5, 'Actual  digit')"
      ]
     },
     "execution_count": 113,
     "metadata": {},
     "output_type": "execute_result"
    },
    {
     "data": {
      "image/png": "[encoded data removed]",
      "text/plain": [
       "<Figure size 1500x700 with 2 Axes>"
      ]
     },
     "metadata": {},
     "output_type": "display_data"
    }
   ],
   "source": [
    "import seaborn as sns\n",
    "sns.set(rc={'figure.figsize':(15,7)})\n",
    "sns.heatmap(cm,annot=True,cmap='PuBu_r',fmt='g')\n",
    "plt.xlabel(\"Predicted digit\")\n",
    "plt.ylabel(\"Actual  digit\") "
   ]
  }
 ],
 "metadata": {
  "kernelspec": {
   "display_name": "Python 3 (ipykernel)",
   "language": "python",
   "name": "python3"
  },
  "language_info": {
   "codemirror_mode": {
    "name": "ipython",
    "version": 3
   },
   "file_extension": ".py",
   "mimetype": "text/x-python",
   "name": "python",
   "nbconvert_exporter": "python",
   "pygments_lexer": "ipython3",
   "version": "3.10.9"
  }
 },
 "nbformat": 4,
 "nbformat_minor": 5
}
